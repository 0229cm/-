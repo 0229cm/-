{
  "nbformat": 4,
  "nbformat_minor": 0,
  "metadata": {
    "colab": {
      "name": "resnet 이게 나을듯dd.ipynb",
      "provenance": [],
      "collapsed_sections": []
    },
    "kernelspec": {
      "name": "python3",
      "display_name": "Python 3"
    },
    "accelerator": "GPU"
  },
  "cells": [
    {
      "cell_type": "code",
      "metadata": {
        "id": "EY4eCxzCzz4m"
      },
      "source": [
        "from keras import Model\n",
        "from keras import layers\n",
        "from matplotlib import pyplot\n",
        "from keras.datasets import cifar100\n",
        "from keras.utils import to_categorical\n",
        "from keras.utils.vis_utils import plot_model\n",
        "\n",
        "def resnet_block(x, filters, stride = (1,1), match = False):\n",
        "\n",
        "  shortcut = x\n",
        "  x = layers.Conv2D(filters, (1,1), strides = stride)(x)\n",
        "  x = layers.BatchNormalization()(x)\n",
        "  x = layers.ReLU()(x)\n",
        "\n",
        "  x = layers.Conv2D(filters, (3,3), padding = 'same')(x)\n",
        "  x = layers.BatchNormalization()(x)\n",
        "  x = layers.ReLU()(x)\n",
        "\n",
        "  x = layers.Conv2D(filters*4, (1,1))(x)\n",
        "  x = layers.BatchNormalization()(x)\n",
        "\n",
        "  if (match == True):#To match size of shortcut to the output if needed\n",
        "    shortcut = layers.Conv2D(filters*4, (1,1), strides = stride)(shortcut)\n",
        "  \n",
        "  x = layers.add([x,shortcut])\n",
        "  x = layers.ReLU()(x)\n",
        "\n",
        "  return x"
      ],
      "execution_count": 1,
      "outputs": []
    },
    {
      "cell_type": "code",
      "metadata": {
        "id": "XHEZM0090lUH"
      },
      "source": [
        "def load_dataset():\n",
        "\t# load dataset\n",
        "\t(x_train, y_train), (x_test, y_test) = cifar100.load_data()\n",
        "\t# one hot encode target values\n",
        "\ty_train = to_categorical(y_train)\n",
        "\ty_test = to_categorical(y_test)\n",
        "\treturn x_train, y_train, x_test, y_test"
      ],
      "execution_count": 2,
      "outputs": []
    },
    {
      "cell_type": "code",
      "metadata": {
        "id": "KGRILhSI0lR0"
      },
      "source": [
        "def prep_pixels(train, test):\n",
        "\t# convert from integers to floats\n",
        "\ttrain_norm = train.astype('float32')\n",
        "\ttest_norm = test.astype('float32')\n",
        "\t# normalize to range 0-1\n",
        "\ttrain_norm = train_norm / 255.0\n",
        "\ttest_norm = test_norm / 255.0\n",
        "\t# return normalized images\n",
        "\treturn train_norm, test_norm"
      ],
      "execution_count": 3,
      "outputs": []
    },
    {
      "cell_type": "code",
      "metadata": {
        "id": "_OKtnMT70lPf",
        "outputId": "4b77dc08-009e-4033-b73b-c40ca12301ff",
        "colab": {
          "base_uri": "https://localhost:8080/"
        }
      },
      "source": [
        "x_train, y_train, x_test, y_test = load_dataset()\n",
        "x_train, x_test = prep_pixels(x_train, x_test)\n"
      ],
      "execution_count": 4,
      "outputs": [
        {
          "output_type": "stream",
          "text": [
            "Downloading data from https://www.cs.toronto.edu/~kriz/cifar-100-python.tar.gz\n",
            "169009152/169001437 [==============================] - 4s 0us/step\n"
          ],
          "name": "stdout"
        }
      ]
    },
    {
      "cell_type": "code",
      "metadata": {
        "id": "oEU_udSN0lNT"
      },
      "source": [
        "inputs = layers.Input(shape = (32,32,3))\n",
        "x = layers.Conv2D(64, kernel_size=(3,3), padding='same')(inputs)\n",
        "x = layers.BatchNormalization()(x)\n",
        "x = layers.ReLU()(x)\n",
        "\n",
        "\n",
        "x = resnet_block(x, 64, match = True)\n",
        "\n",
        "for _ in range(2):\n",
        "  x = resnet_block(x,64)\n",
        "\n",
        "#double the number of filters\n",
        "x = resnet_block(x, 128, stride = (2,2), match = True)\n",
        "\n",
        "for _ in range(3):\n",
        "  x = resnet_block(x,128)\n",
        "\n",
        "#double the number of filters\n",
        "x = resnet_block(x, 256, stride = (2,2), match = True)\n",
        "\n",
        "for _ in range(5):\n",
        "  x = resnet_block(x,256)\n",
        "\n",
        "x = resnet_block(x, 512, stride = (2,2), match = True)\n",
        "\n",
        "for _ in range ( 2 ):\n",
        "  x = resnet_block(x, 512)\n",
        "\n",
        "x = layers.GlobalAveragePooling2D()(x)\n",
        "\n",
        "outputs = layers.Dense(100, activation = 'softmax')(x)\n",
        "\n",
        "model = Model(inputs,outputs )\n",
        "model.compile(optimizer = 'adam', loss = 'categorical_crossentropy', metrics=['accuracy'])"
      ],
      "execution_count": 5,
      "outputs": []
    },
    {
      "cell_type": "code",
      "metadata": {
        "id": "JeUgGdnS0lLE",
        "outputId": "6941a34a-d927-4564-f553-29dfecc5d67d",
        "colab": {
          "base_uri": "https://localhost:8080/"
        }
      },
      "source": [
        "from keras.callbacks import ModelCheckpoint\n",
        "filepath='/content/sample_data/best.hdf5'\n",
        "checkpoint = ModelCheckpoint(filepath, monitor='val_acc', verbose=1, save_best_only=True, mode='max')\n",
        "callbacks_list = [checkpoint]\n",
        "history = model.fit(x_train, y_train, epochs=50, batch_size=64, validation_data=(x_test, y_test), callbacks=callbacks_list)\n",
        "model.save('cifar model')"
      ],
      "execution_count": 8,
      "outputs": [
        {
          "output_type": "stream",
          "text": [
            "Epoch 1/50\n",
            "782/782 [==============================] - ETA: 0s - loss: 4.1186 - accuracy: 0.0818WARNING:tensorflow:Can save best model only with val_acc available, skipping.\n",
            "782/782 [==============================] - 161s 206ms/step - loss: 4.1186 - accuracy: 0.0818 - val_loss: 6.4383 - val_accuracy: 0.0973\n",
            "Epoch 2/50\n",
            "782/782 [==============================] - ETA: 0s - loss: 3.3497 - accuracy: 0.1888WARNING:tensorflow:Can save best model only with val_acc available, skipping.\n",
            "782/782 [==============================] - 162s 207ms/step - loss: 3.3497 - accuracy: 0.1888 - val_loss: 3.4001 - val_accuracy: 0.2122\n",
            "Epoch 3/50\n",
            "782/782 [==============================] - ETA: 0s - loss: 2.8567 - accuracy: 0.2830WARNING:tensorflow:Can save best model only with val_acc available, skipping.\n",
            "782/782 [==============================] - 162s 207ms/step - loss: 2.8567 - accuracy: 0.2830 - val_loss: 3.0806 - val_accuracy: 0.2334\n",
            "Epoch 4/50\n",
            "782/782 [==============================] - ETA: 0s - loss: 2.6489 - accuracy: 0.3309WARNING:tensorflow:Can save best model only with val_acc available, skipping.\n",
            "782/782 [==============================] - 162s 207ms/step - loss: 2.6489 - accuracy: 0.3309 - val_loss: 4.6786 - val_accuracy: 0.3031\n",
            "Epoch 5/50\n",
            "782/782 [==============================] - ETA: 0s - loss: 2.3379 - accuracy: 0.3884WARNING:tensorflow:Can save best model only with val_acc available, skipping.\n",
            "782/782 [==============================] - 161s 206ms/step - loss: 2.3379 - accuracy: 0.3884 - val_loss: 2.4796 - val_accuracy: 0.3704\n",
            "Epoch 6/50\n",
            "782/782 [==============================] - ETA: 0s - loss: 1.9673 - accuracy: 0.4676WARNING:tensorflow:Can save best model only with val_acc available, skipping.\n",
            "782/782 [==============================] - 161s 206ms/step - loss: 1.9673 - accuracy: 0.4676 - val_loss: 2.9457 - val_accuracy: 0.4303\n",
            "Epoch 7/50\n",
            "782/782 [==============================] - ETA: 0s - loss: 1.7153 - accuracy: 0.5216WARNING:tensorflow:Can save best model only with val_acc available, skipping.\n",
            "782/782 [==============================] - 161s 206ms/step - loss: 1.7153 - accuracy: 0.5216 - val_loss: 2.1387 - val_accuracy: 0.4477\n",
            "Epoch 8/50\n",
            "782/782 [==============================] - ETA: 0s - loss: 1.4806 - accuracy: 0.5817WARNING:tensorflow:Can save best model only with val_acc available, skipping.\n",
            "782/782 [==============================] - 161s 206ms/step - loss: 1.4806 - accuracy: 0.5817 - val_loss: 6.6778 - val_accuracy: 0.4400\n",
            "Epoch 9/50\n",
            "782/782 [==============================] - ETA: 0s - loss: 1.2651 - accuracy: 0.6305WARNING:tensorflow:Can save best model only with val_acc available, skipping.\n",
            "782/782 [==============================] - 161s 206ms/step - loss: 1.2651 - accuracy: 0.6305 - val_loss: 3.1810 - val_accuracy: 0.4576\n",
            "Epoch 10/50\n",
            "782/782 [==============================] - ETA: 0s - loss: 1.0273 - accuracy: 0.6910WARNING:tensorflow:Can save best model only with val_acc available, skipping.\n",
            "782/782 [==============================] - 161s 206ms/step - loss: 1.0273 - accuracy: 0.6910 - val_loss: 2.1446 - val_accuracy: 0.4899\n",
            "Epoch 11/50\n",
            "782/782 [==============================] - ETA: 0s - loss: 0.7791 - accuracy: 0.7600WARNING:tensorflow:Can save best model only with val_acc available, skipping.\n",
            "782/782 [==============================] - 161s 205ms/step - loss: 0.7791 - accuracy: 0.7600 - val_loss: 2.9287 - val_accuracy: 0.4847\n",
            "Epoch 12/50\n",
            "782/782 [==============================] - ETA: 0s - loss: 0.5684 - accuracy: 0.8208WARNING:tensorflow:Can save best model only with val_acc available, skipping.\n",
            "782/782 [==============================] - 161s 206ms/step - loss: 0.5684 - accuracy: 0.8208 - val_loss: 2.4933 - val_accuracy: 0.4868\n",
            "Epoch 13/50\n",
            "782/782 [==============================] - ETA: 0s - loss: 0.4319 - accuracy: 0.8604WARNING:tensorflow:Can save best model only with val_acc available, skipping.\n",
            "782/782 [==============================] - 161s 206ms/step - loss: 0.4319 - accuracy: 0.8604 - val_loss: 2.3819 - val_accuracy: 0.5038\n",
            "Epoch 14/50\n",
            "782/782 [==============================] - ETA: 0s - loss: 0.3193 - accuracy: 0.8969WARNING:tensorflow:Can save best model only with val_acc available, skipping.\n",
            "782/782 [==============================] - 161s 205ms/step - loss: 0.3193 - accuracy: 0.8969 - val_loss: 2.7159 - val_accuracy: 0.4858\n",
            "Epoch 15/50\n",
            "782/782 [==============================] - ETA: 0s - loss: 0.2984 - accuracy: 0.9029WARNING:tensorflow:Can save best model only with val_acc available, skipping.\n",
            "782/782 [==============================] - 161s 206ms/step - loss: 0.2984 - accuracy: 0.9029 - val_loss: 2.8327 - val_accuracy: 0.4779\n",
            "Epoch 16/50\n",
            "782/782 [==============================] - ETA: 0s - loss: 0.2518 - accuracy: 0.9194WARNING:tensorflow:Can save best model only with val_acc available, skipping.\n",
            "782/782 [==============================] - 161s 206ms/step - loss: 0.2518 - accuracy: 0.9194 - val_loss: 3.1019 - val_accuracy: 0.4879\n",
            "Epoch 17/50\n",
            "782/782 [==============================] - ETA: 0s - loss: 0.2359 - accuracy: 0.9234WARNING:tensorflow:Can save best model only with val_acc available, skipping.\n",
            "782/782 [==============================] - 161s 206ms/step - loss: 0.2359 - accuracy: 0.9234 - val_loss: 3.2023 - val_accuracy: 0.4777\n",
            "Epoch 18/50\n",
            "782/782 [==============================] - ETA: 0s - loss: 0.1798 - accuracy: 0.9421WARNING:tensorflow:Can save best model only with val_acc available, skipping.\n",
            "782/782 [==============================] - 161s 206ms/step - loss: 0.1798 - accuracy: 0.9421 - val_loss: 3.1961 - val_accuracy: 0.4637\n",
            "Epoch 19/50\n",
            "782/782 [==============================] - ETA: 0s - loss: 0.1797 - accuracy: 0.9413WARNING:tensorflow:Can save best model only with val_acc available, skipping.\n",
            "782/782 [==============================] - 161s 206ms/step - loss: 0.1797 - accuracy: 0.9413 - val_loss: 3.3332 - val_accuracy: 0.4723\n",
            "Epoch 20/50\n",
            "782/782 [==============================] - ETA: 0s - loss: 0.1423 - accuracy: 0.9539WARNING:tensorflow:Can save best model only with val_acc available, skipping.\n",
            "782/782 [==============================] - 161s 206ms/step - loss: 0.1423 - accuracy: 0.9539 - val_loss: 3.2621 - val_accuracy: 0.4761\n",
            "Epoch 21/50\n",
            "782/782 [==============================] - ETA: 0s - loss: 0.1578 - accuracy: 0.9490WARNING:tensorflow:Can save best model only with val_acc available, skipping.\n",
            "782/782 [==============================] - 161s 205ms/step - loss: 0.1578 - accuracy: 0.9490 - val_loss: 3.3348 - val_accuracy: 0.4723\n",
            "Epoch 22/50\n",
            "782/782 [==============================] - ETA: 0s - loss: 0.1692 - accuracy: 0.9454WARNING:tensorflow:Can save best model only with val_acc available, skipping.\n",
            "782/782 [==============================] - 161s 206ms/step - loss: 0.1692 - accuracy: 0.9454 - val_loss: 3.1825 - val_accuracy: 0.4926\n",
            "Epoch 23/50\n",
            "782/782 [==============================] - ETA: 0s - loss: 0.1156 - accuracy: 0.9631WARNING:tensorflow:Can save best model only with val_acc available, skipping.\n",
            "782/782 [==============================] - 161s 206ms/step - loss: 0.1156 - accuracy: 0.9631 - val_loss: 3.3879 - val_accuracy: 0.4914\n",
            "Epoch 24/50\n",
            "782/782 [==============================] - ETA: 0s - loss: 0.1316 - accuracy: 0.9577WARNING:tensorflow:Can save best model only with val_acc available, skipping.\n",
            "782/782 [==============================] - 161s 206ms/step - loss: 0.1316 - accuracy: 0.9577 - val_loss: 4.0323 - val_accuracy: 0.4626\n",
            "Epoch 25/50\n",
            "782/782 [==============================] - ETA: 0s - loss: 0.1215 - accuracy: 0.9605WARNING:tensorflow:Can save best model only with val_acc available, skipping.\n",
            "782/782 [==============================] - 161s 206ms/step - loss: 0.1215 - accuracy: 0.9605 - val_loss: 3.3651 - val_accuracy: 0.4866\n",
            "Epoch 26/50\n",
            "782/782 [==============================] - ETA: 0s - loss: 0.0944 - accuracy: 0.9699WARNING:tensorflow:Can save best model only with val_acc available, skipping.\n",
            "782/782 [==============================] - 160s 205ms/step - loss: 0.0944 - accuracy: 0.9699 - val_loss: 3.8777 - val_accuracy: 0.4701\n",
            "Epoch 27/50\n",
            "782/782 [==============================] - ETA: 0s - loss: 0.1210 - accuracy: 0.9608WARNING:tensorflow:Can save best model only with val_acc available, skipping.\n",
            "782/782 [==============================] - 160s 205ms/step - loss: 0.1210 - accuracy: 0.9608 - val_loss: 3.5974 - val_accuracy: 0.4819\n",
            "Epoch 28/50\n",
            "782/782 [==============================] - ETA: 0s - loss: 0.0944 - accuracy: 0.9684WARNING:tensorflow:Can save best model only with val_acc available, skipping.\n",
            "782/782 [==============================] - 160s 205ms/step - loss: 0.0944 - accuracy: 0.9684 - val_loss: 3.3015 - val_accuracy: 0.5017\n",
            "Epoch 29/50\n",
            "782/782 [==============================] - ETA: 0s - loss: 0.0967 - accuracy: 0.9682WARNING:tensorflow:Can save best model only with val_acc available, skipping.\n",
            "782/782 [==============================] - 160s 205ms/step - loss: 0.0967 - accuracy: 0.9682 - val_loss: 3.2788 - val_accuracy: 0.4996\n",
            "Epoch 30/50\n",
            "782/782 [==============================] - ETA: 0s - loss: 0.0996 - accuracy: 0.9676WARNING:tensorflow:Can save best model only with val_acc available, skipping.\n",
            "782/782 [==============================] - 160s 205ms/step - loss: 0.0996 - accuracy: 0.9676 - val_loss: 3.3127 - val_accuracy: 0.5009\n",
            "Epoch 31/50\n",
            "782/782 [==============================] - ETA: 0s - loss: 0.0785 - accuracy: 0.9743WARNING:tensorflow:Can save best model only with val_acc available, skipping.\n",
            "782/782 [==============================] - 160s 205ms/step - loss: 0.0785 - accuracy: 0.9743 - val_loss: 3.4946 - val_accuracy: 0.4968\n",
            "Epoch 32/50\n",
            "782/782 [==============================] - ETA: 0s - loss: 0.0880 - accuracy: 0.9721WARNING:tensorflow:Can save best model only with val_acc available, skipping.\n",
            "782/782 [==============================] - 160s 205ms/step - loss: 0.0880 - accuracy: 0.9721 - val_loss: 3.4942 - val_accuracy: 0.4904\n",
            "Epoch 33/50\n",
            "782/782 [==============================] - ETA: 0s - loss: 0.0927 - accuracy: 0.9704WARNING:tensorflow:Can save best model only with val_acc available, skipping.\n",
            "782/782 [==============================] - 160s 205ms/step - loss: 0.0927 - accuracy: 0.9704 - val_loss: 3.2726 - val_accuracy: 0.4933\n",
            "Epoch 34/50\n",
            "782/782 [==============================] - ETA: 0s - loss: 0.0745 - accuracy: 0.9751WARNING:tensorflow:Can save best model only with val_acc available, skipping.\n",
            "782/782 [==============================] - 161s 205ms/step - loss: 0.0745 - accuracy: 0.9751 - val_loss: 3.7569 - val_accuracy: 0.4868\n",
            "Epoch 35/50\n",
            "782/782 [==============================] - ETA: 0s - loss: 0.0877 - accuracy: 0.9726WARNING:tensorflow:Can save best model only with val_acc available, skipping.\n",
            "782/782 [==============================] - 160s 205ms/step - loss: 0.0877 - accuracy: 0.9726 - val_loss: 3.4156 - val_accuracy: 0.4973\n",
            "Epoch 36/50\n",
            "782/782 [==============================] - ETA: 0s - loss: 0.0799 - accuracy: 0.9743WARNING:tensorflow:Can save best model only with val_acc available, skipping.\n",
            "782/782 [==============================] - 160s 205ms/step - loss: 0.0799 - accuracy: 0.9743 - val_loss: 3.3942 - val_accuracy: 0.5151\n",
            "Epoch 37/50\n",
            "782/782 [==============================] - ETA: 0s - loss: 0.0671 - accuracy: 0.9787WARNING:tensorflow:Can save best model only with val_acc available, skipping.\n",
            "782/782 [==============================] - 160s 205ms/step - loss: 0.0671 - accuracy: 0.9787 - val_loss: 3.4620 - val_accuracy: 0.4945\n",
            "Epoch 38/50\n",
            "782/782 [==============================] - ETA: 0s - loss: 0.0697 - accuracy: 0.9783WARNING:tensorflow:Can save best model only with val_acc available, skipping.\n",
            "782/782 [==============================] - 160s 205ms/step - loss: 0.0697 - accuracy: 0.9783 - val_loss: 3.5033 - val_accuracy: 0.5064\n",
            "Epoch 39/50\n",
            "782/782 [==============================] - ETA: 0s - loss: 0.0728 - accuracy: 0.9764WARNING:tensorflow:Can save best model only with val_acc available, skipping.\n",
            "782/782 [==============================] - 161s 205ms/step - loss: 0.0728 - accuracy: 0.9764 - val_loss: 3.3912 - val_accuracy: 0.5042\n",
            "Epoch 40/50\n",
            "782/782 [==============================] - ETA: 0s - loss: 0.0696 - accuracy: 0.9771WARNING:tensorflow:Can save best model only with val_acc available, skipping.\n",
            "782/782 [==============================] - 160s 205ms/step - loss: 0.0696 - accuracy: 0.9771 - val_loss: 3.5872 - val_accuracy: 0.4939\n",
            "Epoch 41/50\n",
            "782/782 [==============================] - ETA: 0s - loss: 0.0628 - accuracy: 0.9810WARNING:tensorflow:Can save best model only with val_acc available, skipping.\n",
            "782/782 [==============================] - 160s 205ms/step - loss: 0.0628 - accuracy: 0.9810 - val_loss: 3.6592 - val_accuracy: 0.4911\n",
            "Epoch 42/50\n",
            "782/782 [==============================] - ETA: 0s - loss: 0.0577 - accuracy: 0.9817WARNING:tensorflow:Can save best model only with val_acc available, skipping.\n",
            "782/782 [==============================] - 160s 205ms/step - loss: 0.0577 - accuracy: 0.9817 - val_loss: 3.6564 - val_accuracy: 0.5039\n",
            "Epoch 43/50\n",
            "782/782 [==============================] - ETA: 0s - loss: 0.0637 - accuracy: 0.9786WARNING:tensorflow:Can save best model only with val_acc available, skipping.\n",
            "782/782 [==============================] - 160s 205ms/step - loss: 0.0637 - accuracy: 0.9786 - val_loss: 3.9336 - val_accuracy: 0.4804\n",
            "Epoch 44/50\n",
            "782/782 [==============================] - ETA: 0s - loss: 0.0628 - accuracy: 0.9797WARNING:tensorflow:Can save best model only with val_acc available, skipping.\n",
            "782/782 [==============================] - 161s 206ms/step - loss: 0.0628 - accuracy: 0.9797 - val_loss: 3.7683 - val_accuracy: 0.4912\n",
            "Epoch 45/50\n",
            "782/782 [==============================] - ETA: 0s - loss: 0.0588 - accuracy: 0.9810WARNING:tensorflow:Can save best model only with val_acc available, skipping.\n",
            "782/782 [==============================] - 161s 205ms/step - loss: 0.0588 - accuracy: 0.9810 - val_loss: 3.4994 - val_accuracy: 0.5150\n",
            "Epoch 46/50\n",
            "782/782 [==============================] - ETA: 0s - loss: 0.0632 - accuracy: 0.9796WARNING:tensorflow:Can save best model only with val_acc available, skipping.\n",
            "782/782 [==============================] - 161s 206ms/step - loss: 0.0632 - accuracy: 0.9796 - val_loss: 4.4775 - val_accuracy: 0.5019\n",
            "Epoch 47/50\n",
            "782/782 [==============================] - ETA: 0s - loss: 0.0602 - accuracy: 0.9805WARNING:tensorflow:Can save best model only with val_acc available, skipping.\n",
            "782/782 [==============================] - 161s 206ms/step - loss: 0.0602 - accuracy: 0.9805 - val_loss: 3.5771 - val_accuracy: 0.5039\n",
            "Epoch 48/50\n",
            "782/782 [==============================] - ETA: 0s - loss: 0.0571 - accuracy: 0.9814WARNING:tensorflow:Can save best model only with val_acc available, skipping.\n",
            "782/782 [==============================] - 161s 206ms/step - loss: 0.0571 - accuracy: 0.9814 - val_loss: 3.9140 - val_accuracy: 0.4891\n",
            "Epoch 49/50\n",
            "782/782 [==============================] - ETA: 0s - loss: 0.0583 - accuracy: 0.9813WARNING:tensorflow:Can save best model only with val_acc available, skipping.\n",
            "782/782 [==============================] - 161s 206ms/step - loss: 0.0583 - accuracy: 0.9813 - val_loss: 3.5860 - val_accuracy: 0.5157\n",
            "Epoch 50/50\n",
            "782/782 [==============================] - ETA: 0s - loss: 0.0401 - accuracy: 0.9869WARNING:tensorflow:Can save best model only with val_acc available, skipping.\n",
            "782/782 [==============================] - 161s 206ms/step - loss: 0.0401 - accuracy: 0.9869 - val_loss: 3.7706 - val_accuracy: 0.5033\n",
            "WARNING:tensorflow:From /usr/local/lib/python3.6/dist-packages/tensorflow/python/training/tracking/tracking.py:111: Model.state_updates (from tensorflow.python.keras.engine.training) is deprecated and will be removed in a future version.\n",
            "Instructions for updating:\n",
            "This property should not be used in TensorFlow 2.0, as updates are applied automatically.\n",
            "WARNING:tensorflow:From /usr/local/lib/python3.6/dist-packages/tensorflow/python/training/tracking/tracking.py:111: Layer.updates (from tensorflow.python.keras.engine.base_layer) is deprecated and will be removed in a future version.\n",
            "Instructions for updating:\n",
            "This property should not be used in TensorFlow 2.0, as updates are applied automatically.\n",
            "INFO:tensorflow:Assets written to: cifar model/assets\n"
          ],
          "name": "stdout"
        }
      ]
    },
    {
      "cell_type": "code",
      "metadata": {
        "id": "D95vu3-J0lI1"
      },
      "source": [
        ""
      ],
      "execution_count": null,
      "outputs": []
    },
    {
      "cell_type": "code",
      "metadata": {
        "id": "f384uFbO0lGw"
      },
      "source": [
        ""
      ],
      "execution_count": null,
      "outputs": []
    },
    {
      "cell_type": "code",
      "metadata": {
        "id": "SjCB5LmJ0lEt"
      },
      "source": [
        ""
      ],
      "execution_count": null,
      "outputs": []
    },
    {
      "cell_type": "code",
      "metadata": {
        "id": "2dXdd4Ua0lBt"
      },
      "source": [
        ""
      ],
      "execution_count": null,
      "outputs": []
    }
  ]
}