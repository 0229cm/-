{
 "cells": [
  {
   "cell_type": "code",
   "execution_count": 1,
   "metadata": {},
   "outputs": [
    {
     "name": "stdout",
     "output_type": "stream",
     "text": [
      "1 Physical GPUs, 1 Logical GPUs\n"
     ]
    }
   ],
   "source": [
    "import tensorflow as tf\n",
    " \n",
    " \n",
    " \n",
    "gpus = tf.config.experimental.list_physical_devices('GPU')\n",
    "if gpus:\n",
    "  try:\n",
    "    # Currently, memory growth needs to be the same across GPUs\n",
    "    for gpu in gpus:\n",
    "      tf.config.experimental.set_memory_growth(gpu, True)\n",
    "    logical_gpus = tf.config.experimental.list_logical_devices('GPU')\n",
    "    print(len(gpus), \"Physical GPUs,\", len(logical_gpus), \"Logical GPUs\")\n",
    "  except RuntimeError as e:\n",
    "    # Memory growth must be set before GPUs have been initialized\n",
    "    print(e)\n"
   ]
  },
  {
   "cell_type": "code",
   "execution_count": 2,
   "metadata": {},
   "outputs": [
    {
     "name": "stderr",
     "output_type": "stream",
     "text": [
      "WARNING: pip is being invoked by an old script wrapper. This will fail in a future version of pip.\n",
      "Please see https://github.com/pypa/pip/issues/5599 for advice on fixing the underlying issue.\n",
      "To avoid this problem you can invoke Python with '-m pip' instead of running pip directly.\n"
     ]
    },
    {
     "name": "stdout",
     "output_type": "stream",
     "text": [
      "Requirement already satisfied: progressbar in c:\\users\\min\\anaconda3\\envs\\rtx\\lib\\site-packages (2.5)\n"
     ]
    },
    {
     "data": {
      "text/plain": [
       "0"
      ]
     },
     "execution_count": 2,
     "metadata": {},
     "output_type": "execute_result"
    }
   ],
   "source": [
    "from pip._internal import main\n",
    "main([\"install\",\"progressbar\"])"
   ]
  },
  {
   "cell_type": "code",
   "execution_count": 3,
   "metadata": {},
   "outputs": [],
   "source": [
    "import progressbar\n",
    "import time\n",
    "import os\n",
    "import struct\n",
    "import matplotlib.pyplot as plt\n",
    "import IPython.display as ipd\n",
    "import pandas as pd\n",
    "import numpy as np\n",
    "import librosa # for sound processing.\n",
    "import DataCollection as dc # a local module"
   ]
  },
  {
   "cell_type": "code",
   "execution_count": 4,
   "metadata": {},
   "outputs": [
    {
     "data": {
      "text/html": [
       "<div>\n",
       "<style scoped>\n",
       "    .dataframe tbody tr th:only-of-type {\n",
       "        vertical-align: middle;\n",
       "    }\n",
       "\n",
       "    .dataframe tbody tr th {\n",
       "        vertical-align: top;\n",
       "    }\n",
       "\n",
       "    .dataframe thead th {\n",
       "        text-align: right;\n",
       "    }\n",
       "</style>\n",
       "<table border=\"1\" class=\"dataframe\">\n",
       "  <thead>\n",
       "    <tr style=\"text-align: right;\">\n",
       "      <th></th>\n",
       "      <th>slice_file_name</th>\n",
       "      <th>fsID</th>\n",
       "      <th>start</th>\n",
       "      <th>end</th>\n",
       "      <th>salience</th>\n",
       "      <th>fold</th>\n",
       "      <th>classID</th>\n",
       "      <th>class</th>\n",
       "    </tr>\n",
       "  </thead>\n",
       "  <tbody>\n",
       "    <tr>\n",
       "      <th>0</th>\n",
       "      <td>100032-3-0-0.wav</td>\n",
       "      <td>100032</td>\n",
       "      <td>0.0</td>\n",
       "      <td>0.317551</td>\n",
       "      <td>1</td>\n",
       "      <td>5</td>\n",
       "      <td>3</td>\n",
       "      <td>dog_bark</td>\n",
       "    </tr>\n",
       "    <tr>\n",
       "      <th>1</th>\n",
       "      <td>100263-2-0-117.wav</td>\n",
       "      <td>100263</td>\n",
       "      <td>58.5</td>\n",
       "      <td>62.500000</td>\n",
       "      <td>1</td>\n",
       "      <td>5</td>\n",
       "      <td>2</td>\n",
       "      <td>children_playing</td>\n",
       "    </tr>\n",
       "    <tr>\n",
       "      <th>2</th>\n",
       "      <td>100263-2-0-121.wav</td>\n",
       "      <td>100263</td>\n",
       "      <td>60.5</td>\n",
       "      <td>64.500000</td>\n",
       "      <td>1</td>\n",
       "      <td>5</td>\n",
       "      <td>2</td>\n",
       "      <td>children_playing</td>\n",
       "    </tr>\n",
       "    <tr>\n",
       "      <th>3</th>\n",
       "      <td>100263-2-0-126.wav</td>\n",
       "      <td>100263</td>\n",
       "      <td>63.0</td>\n",
       "      <td>67.000000</td>\n",
       "      <td>1</td>\n",
       "      <td>5</td>\n",
       "      <td>2</td>\n",
       "      <td>children_playing</td>\n",
       "    </tr>\n",
       "    <tr>\n",
       "      <th>4</th>\n",
       "      <td>100263-2-0-137.wav</td>\n",
       "      <td>100263</td>\n",
       "      <td>68.5</td>\n",
       "      <td>72.500000</td>\n",
       "      <td>1</td>\n",
       "      <td>5</td>\n",
       "      <td>2</td>\n",
       "      <td>children_playing</td>\n",
       "    </tr>\n",
       "  </tbody>\n",
       "</table>\n",
       "</div>"
      ],
      "text/plain": [
       "      slice_file_name    fsID  start        end  salience  fold  classID  \\\n",
       "0    100032-3-0-0.wav  100032    0.0   0.317551         1     5        3   \n",
       "1  100263-2-0-117.wav  100263   58.5  62.500000         1     5        2   \n",
       "2  100263-2-0-121.wav  100263   60.5  64.500000         1     5        2   \n",
       "3  100263-2-0-126.wav  100263   63.0  67.000000         1     5        2   \n",
       "4  100263-2-0-137.wav  100263   68.5  72.500000         1     5        2   \n",
       "\n",
       "              class  \n",
       "0          dog_bark  \n",
       "1  children_playing  \n",
       "2  children_playing  \n",
       "3  children_playing  \n",
       "4  children_playing  "
      ]
     },
     "execution_count": 4,
     "metadata": {},
     "output_type": "execute_result"
    }
   ],
   "source": [
    "data = pd.read_csv(\"UrbanSound8K/metadata/UrbanSound8K.csv\")\n",
    "data.head()"
   ]
  },
  {
   "cell_type": "code",
   "execution_count": 5,
   "metadata": {},
   "outputs": [
    {
     "data": {
      "text/plain": [
       "8732"
      ]
     },
     "execution_count": 5,
     "metadata": {},
     "output_type": "execute_result"
    }
   ],
   "source": [
    "\n",
    "data.shape[0]"
   ]
  },
  {
   "cell_type": "code",
   "execution_count": 6,
   "metadata": {},
   "outputs": [
    {
     "data": {
      "text/plain": [
       "(8732, 2)"
      ]
     },
     "execution_count": 6,
     "metadata": {},
     "output_type": "execute_result"
    }
   ],
   "source": [
    "\n",
    "###data = data.sort_values(by=['fold', 'classID',\"fsID\"], ascending=[True, True, True])\n",
    "dataset = np.zeros(shape = (data.shape[0],2),dtype = object)\n",
    "dataset.shape"
   ]
  },
  {
   "cell_type": "code",
   "execution_count": 7,
   "metadata": {},
   "outputs": [
    {
     "name": "stderr",
     "output_type": "stream",
     "text": [
      "C:\\Users\\min\\anaconda3\\envs\\rtx\\lib\\site-packages\\librosa\\core\\spectrum.py:224: UserWarning: n_fft=2048 is too small for input signal of length=1323\n",
      "  n_fft, y.shape[-1]\n",
      "C:\\Users\\min\\anaconda3\\envs\\rtx\\lib\\site-packages\\librosa\\core\\spectrum.py:224: UserWarning: n_fft=2048 is too small for input signal of length=1103\n",
      "  n_fft, y.shape[-1]\n",
      "C:\\Users\\min\\anaconda3\\envs\\rtx\\lib\\site-packages\\librosa\\core\\spectrum.py:224: UserWarning: n_fft=2048 is too small for input signal of length=1523\n",
      "  n_fft, y.shape[-1]\n",
      "||$$$$$$$$$$$$$$$$$$$$$$$$$$$$$$$$$$$ ||  99%\r"
     ]
    }
   ],
   "source": [
    "bar = progressbar.ProgressBar(maxval=data.shape[0], widgets=[progressbar.Bar('$', '||', '||'), ' ', progressbar.Percentage()])\n",
    "bar.start()\n",
    "for i in range(data.shape[0]):\n",
    "    \n",
    "    fullpath, class_id = dc.path_class(data,data.slice_file_name[i])\n",
    "    try:\n",
    "        X, sample_rate = librosa.load(fullpath, res_type='kaiser_fast')\n",
    "        mfccs = np.mean(librosa.feature.mfcc(y=X, sr=sample_rate, n_mfcc=40).T,axis=0)\n",
    "    except Exception:\n",
    "        print(\"Error encountered while parsing file: \", file)\n",
    "        mfccs,class_id = None, None\n",
    "    feature = mfccs\n",
    "    label = class_id\n",
    "    dataset[i,0],dataset[i,1] = feature,label\n",
    "    \n",
    "    bar.update(i+1)"
   ]
  },
  {
   "cell_type": "code",
   "execution_count": 8,
   "metadata": {},
   "outputs": [],
   "source": [
    "np.save(\"dataset_melspectrogram\",dataset,allow_pickle=True)"
   ]
  },
  {
   "cell_type": "code",
   "execution_count": 9,
   "metadata": {},
   "outputs": [],
   "source": [
    "l = np.load(\"dataset_melspectrogram.npy\")"
   ]
  },
  {
   "cell_type": "code",
   "execution_count": 10,
   "metadata": {},
   "outputs": [
    {
     "data": {
      "text/plain": [
       "(8732, 2)"
      ]
     },
     "execution_count": 10,
     "metadata": {},
     "output_type": "execute_result"
    }
   ],
   "source": [
    "l.shape"
   ]
  },
  {
   "cell_type": "code",
   "execution_count": 11,
   "metadata": {},
   "outputs": [
    {
     "data": {
      "text/plain": [
       "'car_horn'"
      ]
     },
     "execution_count": 11,
     "metadata": {},
     "output_type": "execute_result"
    }
   ],
   "source": [
    "l[8730,1]"
   ]
  },
  {
   "cell_type": "markdown",
   "metadata": {},
   "source": [
    "model"
   ]
  },
  {
   "cell_type": "code",
   "execution_count": 12,
   "metadata": {},
   "outputs": [
    {
     "name": "stderr",
     "output_type": "stream",
     "text": [
      "Using TensorFlow backend.\n"
     ]
    }
   ],
   "source": [
    "import numpy as np\n",
    "import pandas as pd\n",
    "\n",
    "data = pd.DataFrame(np.load(\"dataset.npy\",allow_pickle= True))\n",
    "data.columns = ['feature', 'label']\n",
    "\n",
    "from sklearn.preprocessing import LabelEncoder\n",
    "\n",
    "X = np.array(data.feature.tolist())\n",
    "y = np.array(data.label.tolist())\n",
    "from sklearn.model_selection import train_test_split\n",
    "X,val_x,y,val_y = train_test_split(X,y)\n",
    "lb = LabelEncoder()\n",
    "\n",
    "from keras.utils import np_utils\n",
    "\n",
    "y = np_utils.to_categorical(lb.fit_transform(y))\n",
    "val_y = np_utils.to_categorical(lb.fit_transform(val_y))"
   ]
  },
  {
   "cell_type": "code",
   "execution_count": 13,
   "metadata": {},
   "outputs": [],
   "source": [
    "import numpy as np\n",
    "from keras.models import Sequential\n",
    "from keras.layers import Dense, Dropout, Activation, Flatten\n",
    "from keras.layers import Convolution2D, MaxPooling2D\n",
    "from keras.optimizers import Adam\n",
    "from keras.utils import np_utils\n",
    "from sklearn import metrics \n",
    "\n",
    "\n",
    "\n",
    "num_labels = y.shape[1]\n",
    "filter_size = 3\n",
    "\n",
    "\n",
    "\n",
    "# build model\n",
    "model = Sequential()\n",
    "\n",
    "\n",
    "model.add(Dense(512, input_shape=(40,)))\n",
    "model.add(Activation('relu'))\n",
    "model.add(Dropout(0.5))\n",
    "\n",
    "\n",
    "model.add(Dense(256))\n",
    "model.add(Activation('relu'))\n",
    "model.add(Dropout(0.5))\n",
    "\n",
    "\n",
    "model.add(Dense(num_labels))\n",
    "model.add(Activation('softmax'))\n",
    "\n",
    "\n",
    "\n",
    "model.compile(loss='categorical_crossentropy', metrics=['accuracy'], optimizer='adam')"
   ]
  },
  {
   "cell_type": "code",
   "execution_count": 14,
   "metadata": {},
   "outputs": [
    {
     "name": "stdout",
     "output_type": "stream",
     "text": [
      "Model: \"sequential_1\"\n",
      "_________________________________________________________________\n",
      "Layer (type)                 Output Shape              Param #   \n",
      "=================================================================\n",
      "dense_1 (Dense)              (None, 512)               20992     \n",
      "_________________________________________________________________\n",
      "activation_1 (Activation)    (None, 512)               0         \n",
      "_________________________________________________________________\n",
      "dropout_1 (Dropout)          (None, 512)               0         \n",
      "_________________________________________________________________\n",
      "dense_2 (Dense)              (None, 256)               131328    \n",
      "_________________________________________________________________\n",
      "activation_2 (Activation)    (None, 256)               0         \n",
      "_________________________________________________________________\n",
      "dropout_2 (Dropout)          (None, 256)               0         \n",
      "_________________________________________________________________\n",
      "dense_3 (Dense)              (None, 10)                2570      \n",
      "_________________________________________________________________\n",
      "activation_3 (Activation)    (None, 10)                0         \n",
      "=================================================================\n",
      "Total params: 154,890\n",
      "Trainable params: 154,890\n",
      "Non-trainable params: 0\n",
      "_________________________________________________________________\n"
     ]
    }
   ],
   "source": [
    "model.summary()"
   ]
  },
  {
   "cell_type": "code",
   "execution_count": 15,
   "metadata": {},
   "outputs": [
    {
     "name": "stdout",
     "output_type": "stream",
     "text": [
      "Train on 6549 samples, validate on 2183 samples\n",
      "Epoch 1/32\n",
      "6549/6549 [==============================] - 94s 14ms/step - loss: 5.8192 - accuracy: 0.2074 - val_loss: 2.1510 - val_accuracy: 0.1979\n",
      "Epoch 2/32\n",
      "6549/6549 [==============================] - 0s 46us/step - loss: 2.1339 - accuracy: 0.2468 - val_loss: 2.0220 - val_accuracy: 0.2891\n",
      "Epoch 3/32\n",
      "6549/6549 [==============================] - 0s 46us/step - loss: 2.0037 - accuracy: 0.2982 - val_loss: 1.8461 - val_accuracy: 0.3678\n",
      "Epoch 4/32\n",
      "6549/6549 [==============================] - 0s 53us/step - loss: 1.9059 - accuracy: 0.3339 - val_loss: 1.7552 - val_accuracy: 0.4027\n",
      "Epoch 5/32\n",
      "6549/6549 [==============================] - 0s 45us/step - loss: 1.8139 - accuracy: 0.3584 - val_loss: 1.6791 - val_accuracy: 0.4306\n",
      "Epoch 6/32\n",
      "6549/6549 [==============================] - 0s 38us/step - loss: 1.7594 - accuracy: 0.3723 - val_loss: 1.6097 - val_accuracy: 0.4622\n",
      "Epoch 7/32\n",
      "6549/6549 [==============================] - 0s 40us/step - loss: 1.6799 - accuracy: 0.4097 - val_loss: 1.5287 - val_accuracy: 0.4911\n",
      "Epoch 8/32\n",
      "6549/6549 [==============================] - 0s 46us/step - loss: 1.6248 - accuracy: 0.4263 - val_loss: 1.4932 - val_accuracy: 0.5016\n",
      "Epoch 9/32\n",
      "6549/6549 [==============================] - 0s 46us/step - loss: 1.5715 - accuracy: 0.4463 - val_loss: 1.4137 - val_accuracy: 0.5332\n",
      "Epoch 10/32\n",
      "6549/6549 [==============================] - 0s 45us/step - loss: 1.5226 - accuracy: 0.4598 - val_loss: 1.3643 - val_accuracy: 0.5621\n",
      "Epoch 11/32\n",
      "6549/6549 [==============================] - 0s 44us/step - loss: 1.4774 - accuracy: 0.4871 - val_loss: 1.3017 - val_accuracy: 0.5754\n",
      "Epoch 12/32\n",
      "6549/6549 [==============================] - 0s 45us/step - loss: 1.4131 - accuracy: 0.5016 - val_loss: 1.2437 - val_accuracy: 0.5923\n",
      "Epoch 13/32\n",
      "6549/6549 [==============================] - 0s 38us/step - loss: 1.3681 - accuracy: 0.5276 - val_loss: 1.2022 - val_accuracy: 0.5978\n",
      "Epoch 14/32\n",
      "6549/6549 [==============================] - 0s 39us/step - loss: 1.3127 - accuracy: 0.5427 - val_loss: 1.1617 - val_accuracy: 0.6225\n",
      "Epoch 15/32\n",
      "6549/6549 [==============================] - 0s 45us/step - loss: 1.2795 - accuracy: 0.5518 - val_loss: 1.1213 - val_accuracy: 0.6257\n",
      "Epoch 16/32\n",
      "6549/6549 [==============================] - 0s 45us/step - loss: 1.2388 - accuracy: 0.5692 - val_loss: 1.0809 - val_accuracy: 0.6427\n",
      "Epoch 17/32\n",
      "6549/6549 [==============================] - 0s 46us/step - loss: 1.2220 - accuracy: 0.5834 - val_loss: 1.0572 - val_accuracy: 0.6624\n",
      "Epoch 18/32\n",
      "6549/6549 [==============================] - 0s 47us/step - loss: 1.1472 - accuracy: 0.6053 - val_loss: 1.0028 - val_accuracy: 0.6793\n",
      "Epoch 19/32\n",
      "6549/6549 [==============================] - 0s 45us/step - loss: 1.1247 - accuracy: 0.6138 - val_loss: 0.9869 - val_accuracy: 0.6848\n",
      "Epoch 20/32\n",
      "6549/6549 [==============================] - 0s 37us/step - loss: 1.1149 - accuracy: 0.6201 - val_loss: 0.9583 - val_accuracy: 0.7059\n",
      "Epoch 21/32\n",
      "6549/6549 [==============================] - 0s 42us/step - loss: 1.0611 - accuracy: 0.6369 - val_loss: 0.9362 - val_accuracy: 0.7105\n",
      "Epoch 22/32\n",
      "6549/6549 [==============================] - 0s 46us/step - loss: 1.0111 - accuracy: 0.6522 - val_loss: 0.8924 - val_accuracy: 0.7187\n",
      "Epoch 23/32\n",
      "6549/6549 [==============================] - 0s 45us/step - loss: 0.9966 - accuracy: 0.6601 - val_loss: 0.8705 - val_accuracy: 0.7197\n",
      "Epoch 24/32\n",
      "6549/6549 [==============================] - 0s 47us/step - loss: 0.9628 - accuracy: 0.6659 - val_loss: 0.8422 - val_accuracy: 0.7371\n",
      "Epoch 25/32\n",
      "6549/6549 [==============================] - 0s 46us/step - loss: 0.9588 - accuracy: 0.6676 - val_loss: 0.8296 - val_accuracy: 0.7458\n",
      "Epoch 26/32\n",
      "6549/6549 [==============================] - 0s 47us/step - loss: 0.9424 - accuracy: 0.6784 - val_loss: 0.8125 - val_accuracy: 0.7439\n",
      "Epoch 27/32\n",
      "6549/6549 [==============================] - 0s 36us/step - loss: 0.9082 - accuracy: 0.6865 - val_loss: 0.7974 - val_accuracy: 0.7545\n",
      "Epoch 28/32\n",
      "6549/6549 [==============================] - 0s 43us/step - loss: 0.8889 - accuracy: 0.7007 - val_loss: 0.7785 - val_accuracy: 0.7645\n",
      "Epoch 29/32\n",
      "6549/6549 [==============================] - 0s 49us/step - loss: 0.8666 - accuracy: 0.7099 - val_loss: 0.7686 - val_accuracy: 0.7645\n",
      "Epoch 30/32\n",
      "6549/6549 [==============================] - 0s 47us/step - loss: 0.8557 - accuracy: 0.7132 - val_loss: 0.7531 - val_accuracy: 0.7687\n",
      "Epoch 31/32\n",
      "6549/6549 [==============================] - 0s 45us/step - loss: 0.8258 - accuracy: 0.7157 - val_loss: 0.7405 - val_accuracy: 0.7696\n",
      "Epoch 32/32\n",
      "6549/6549 [==============================] - 0s 46us/step - loss: 0.8247 - accuracy: 0.7210 - val_loss: 0.7242 - val_accuracy: 0.7751\n"
     ]
    },
    {
     "data": {
      "text/plain": [
       "<keras.callbacks.callbacks.History at 0x24b10ede3c8>"
      ]
     },
     "execution_count": 15,
     "metadata": {},
     "output_type": "execute_result"
    }
   ],
   "source": [
    "model.fit(X, y, batch_size=64, epochs=32, validation_data=(val_x, val_y))"
   ]
  },
  {
   "cell_type": "markdown",
   "metadata": {},
   "source": [
    "Implementing XGBOOST Algorithm on same Dataset"
   ]
  },
  {
   "cell_type": "code",
   "execution_count": 36,
   "metadata": {},
   "outputs": [],
   "source": [
    "train = np.argmax(y,axis =  1)"
   ]
  },
  {
   "cell_type": "code",
   "execution_count": 37,
   "metadata": {},
   "outputs": [
    {
     "data": {
      "text/plain": [
       "(6549,)"
      ]
     },
     "execution_count": 37,
     "metadata": {},
     "output_type": "execute_result"
    }
   ],
   "source": [
    "train.shape"
   ]
  },
  {
   "cell_type": "code",
   "execution_count": 38,
   "metadata": {},
   "outputs": [],
   "source": [
    "test = np.argmax(val_y,axis =  1)"
   ]
  },
  {
   "cell_type": "code",
   "execution_count": 39,
   "metadata": {},
   "outputs": [
    {
     "data": {
      "text/plain": [
       "(6549, 40)"
      ]
     },
     "execution_count": 39,
     "metadata": {},
     "output_type": "execute_result"
    }
   ],
   "source": [
    "x =X\n",
    "X.shape"
   ]
  },
  {
   "cell_type": "code",
   "execution_count": 40,
   "metadata": {},
   "outputs": [],
   "source": [
    "test_x = val_x"
   ]
  },
  {
   "cell_type": "code",
   "execution_count": 41,
   "metadata": {},
   "outputs": [],
   "source": [
    "from xgboost import XGBClassifier"
   ]
  },
  {
   "cell_type": "code",
   "execution_count": 42,
   "metadata": {},
   "outputs": [],
   "source": [
    "model = XGBClassifier(learning_rate =0.1, \n",
    "                      n_estimators=280, \n",
    "                      max_depth=5,\n",
    "                      min_child_weight=1, \n",
    "                      gamma=0, \n",
    "                      subsample=0.8, \n",
    "                      colsample_bytree=0.8,\n",
    "                      objective= 'binary:logistic', \n",
    "                      nthread=4, \n",
    "                      scale_pos_weight=1, \n",
    "                      seed=60)"
   ]
  },
  {
   "cell_type": "code",
   "execution_count": 43,
   "metadata": {},
   "outputs": [
    {
     "name": "stderr",
     "output_type": "stream",
     "text": [
      "C:\\Users\\min\\anaconda3\\envs\\rtx\\lib\\site-packages\\xgboost\\sklearn.py:888: UserWarning: The use of label encoder in XGBClassifier is deprecated and will be removed in a future release. To remove this warning, do the following: 1) Pass option use_label_encoder=False when constructing XGBClassifier object; and 2) Encode your labels (y) as integers starting with 0, i.e. 0, 1, 2, ..., [num_class - 1].\n",
      "  warnings.warn(label_encoder_deprecation_msg, UserWarning)\n"
     ]
    },
    {
     "name": "stdout",
     "output_type": "stream",
     "text": [
      "[20:36:04] WARNING: C:/Users/Administrator/workspace/xgboost-win64_release_1.3.0/src/learner.cc:541: \n",
      "Parameters: { scale_pos_weight } might not be used.\n",
      "\n",
      "  This may not be accurate due to some parameters are only used in language bindings but\n",
      "  passed down to XGBoost core.  Or some parameters are not used but slip through this\n",
      "  verification. Please open an issue if you find above cases.\n",
      "\n",
      "\n",
      "[20:36:04] WARNING: C:/Users/Administrator/workspace/xgboost-win64_release_1.3.0/src/learner.cc:1061: Starting in XGBoost 1.3.0, the default evaluation metric used with the objective 'multi:softprob' was changed from 'merror' to 'mlogloss'. Explicitly set eval_metric if you'd like to restore the old behavior.\n"
     ]
    },
    {
     "data": {
      "text/plain": [
       "XGBClassifier(base_score=0.5, booster='gbtree', colsample_bylevel=1,\n",
       "              colsample_bynode=1, colsample_bytree=0.8, gamma=0, gpu_id=-1,\n",
       "              importance_type='gain', interaction_constraints='',\n",
       "              learning_rate=0.1, max_delta_step=0, max_depth=5,\n",
       "              min_child_weight=1, missing=nan, monotone_constraints='()',\n",
       "              n_estimators=280, n_jobs=4, nthread=4, num_parallel_tree=1,\n",
       "              objective='multi:softprob', random_state=60, reg_alpha=0,\n",
       "              reg_lambda=1, scale_pos_weight=1, seed=60, subsample=0.8,\n",
       "              tree_method='exact', validate_parameters=1, verbosity=None)"
      ]
     },
     "execution_count": 43,
     "metadata": {},
     "output_type": "execute_result"
    }
   ],
   "source": [
    "model.fit(x,train)"
   ]
  },
  {
   "cell_type": "code",
   "execution_count": 44,
   "metadata": {},
   "outputs": [],
   "source": [
    "pred = model.predict(test_x)"
   ]
  },
  {
   "cell_type": "code",
   "execution_count": 45,
   "metadata": {},
   "outputs": [
    {
     "data": {
      "text/plain": [
       "array([3, 2, 4, ..., 2, 8, 4], dtype=int64)"
      ]
     },
     "execution_count": 45,
     "metadata": {},
     "output_type": "execute_result"
    }
   ],
   "source": [
    "test"
   ]
  },
  {
   "cell_type": "code",
   "execution_count": 46,
   "metadata": {},
   "outputs": [
    {
     "data": {
      "text/plain": [
       "array([3, 2, 4, ..., 2, 8, 4], dtype=int64)"
      ]
     },
     "execution_count": 46,
     "metadata": {},
     "output_type": "execute_result"
    }
   ],
   "source": [
    "pred"
   ]
  },
  {
   "cell_type": "code",
   "execution_count": 47,
   "metadata": {},
   "outputs": [
    {
     "data": {
      "text/plain": [
       "0.9010535959688502"
      ]
     },
     "execution_count": 47,
     "metadata": {},
     "output_type": "execute_result"
    }
   ],
   "source": [
    "import sklearn.metrics as met\n",
    "met.accuracy_score(test, pred)"
   ]
  },
  {
   "cell_type": "code",
   "execution_count": 48,
   "metadata": {},
   "outputs": [
    {
     "data": {
      "text/plain": [
       "array([[218,   0,   3,   0,   0,   0,   0,   2,   1,   5],\n",
       "       [  0,  75,   1,   0,   2,   3,   0,   3,   0,  11],\n",
       "       [  0,   0, 231,   7,   7,   0,   1,   2,   3,  13],\n",
       "       [  3,   1,  11, 225,   8,   5,   3,   0,   5,  12],\n",
       "       [  0,   0,   2,   4, 237,   0,   0,   8,   0,  10],\n",
       "       [  0,   0,   2,   2,   1, 245,   0,   0,   0,   1],\n",
       "       [  0,   0,   2,  10,   1,   0,  81,   1,   0,   1],\n",
       "       [  0,   0,   1,   0,   7,   0,   0, 225,   0,   4],\n",
       "       [  0,   0,   4,   3,   0,   1,   0,   0, 222,   2],\n",
       "       [  2,   5,  10,   8,   4,   3,   0,   3,   2, 208]], dtype=int64)"
      ]
     },
     "execution_count": 48,
     "metadata": {},
     "output_type": "execute_result"
    }
   ],
   "source": [
    "met.confusion_matrix(test, pred)"
   ]
  },
  {
   "cell_type": "markdown",
   "metadata": {},
   "source": [
    "Implementing Random Forest"
   ]
  },
  {
   "cell_type": "code",
   "execution_count": 49,
   "metadata": {},
   "outputs": [],
   "source": [
    "from sklearn.ensemble import RandomForestClassifier"
   ]
  },
  {
   "cell_type": "code",
   "execution_count": 50,
   "metadata": {},
   "outputs": [
    {
     "name": "stdout",
     "output_type": "stream",
     "text": [
      "Requirement already satisfied: progressbar in c:\\users\\min\\anaconda3\\envs\\rtx\\lib\\site-packages (2.5)\n"
     ]
    },
    {
     "name": "stderr",
     "output_type": "stream",
     "text": [
      "WARNING: pip is being invoked by an old script wrapper. This will fail in a future version of pip.\n",
      "Please see https://github.com/pypa/pip/issues/5599 for advice on fixing the underlying issue.\n",
      "To avoid this problem you can invoke Python with '-m pip' instead of running pip directly.\n"
     ]
    }
   ],
   "source": [
    "from pip._internal import main\n",
    "main([\"install\",\"progressbar\"])\n",
    "import progressbar\n",
    "import time"
   ]
  },
  {
   "cell_type": "code",
   "execution_count": 51,
   "metadata": {},
   "outputs": [],
   "source": [
    "score = []\n",
    "l = [i for i in range(50,300,25)]\n",
    "for i in range(50,300,25):\n",
    "  model = RandomForestClassifier(n_estimators=i ,criterion = \"entropy\", bootstrap= False)\n",
    "  model.fit(x,train)\n",
    "  pred = model.predict(test_x)\n",
    "  score.append(met.accuracy_score(test, pred))"
   ]
  },
  {
   "cell_type": "code",
   "execution_count": 52,
   "metadata": {},
   "outputs": [
    {
     "data": {
      "image/png": "[encoded data removed]",
      "text/plain": [
       "<Figure size 432x288 with 1 Axes>"
      ]
     },
     "metadata": {
      "needs_background": "light"
     },
     "output_type": "display_data"
    }
   ],
   "source": [
    "from matplotlib import pyplot as plt\n",
    "plt.plot(l,score)\n",
    "plt.show()"
   ]
  },
  {
   "cell_type": "code",
   "execution_count": 53,
   "metadata": {},
   "outputs": [
    {
     "data": {
      "text/plain": [
       "array([3, 2, 4, ..., 2, 8, 4], dtype=int64)"
      ]
     },
     "execution_count": 53,
     "metadata": {},
     "output_type": "execute_result"
    }
   ],
   "source": [
    "test"
   ]
  },
  {
   "cell_type": "code",
   "execution_count": null,
   "metadata": {},
   "outputs": [],
   "source": []
  },
  {
   "cell_type": "code",
   "execution_count": null,
   "metadata": {},
   "outputs": [],
   "source": []
  },
  {
   "cell_type": "code",
   "execution_count": null,
   "metadata": {},
   "outputs": [],
   "source": []
  },
  {
   "cell_type": "code",
   "execution_count": null,
   "metadata": {},
   "outputs": [],
   "source": []
  },
  {
   "cell_type": "code",
   "execution_count": null,
   "metadata": {},
   "outputs": [],
   "source": []
  },
  {
   "cell_type": "code",
   "execution_count": null,
   "metadata": {},
   "outputs": [],
   "source": []
  },
  {
   "cell_type": "code",
   "execution_count": null,
   "metadata": {},
   "outputs": [],
   "source": []
  },
  {
   "cell_type": "code",
   "execution_count": null,
   "metadata": {},
   "outputs": [],
   "source": []
  },
  {
   "cell_type": "code",
   "execution_count": null,
   "metadata": {},
   "outputs": [],
   "source": []
  }
 ],
 "metadata": {
  "kernelspec": {
   "display_name": "rtx",
   "language": "python",
   "name": "rtx"
  },
  "language_info": {
   "codemirror_mode": {
    "name": "ipython",
    "version": 3
   },
   "file_extension": ".py",
   "mimetype": "text/x-python",
   "name": "python",
   "nbconvert_exporter": "python",
   "pygments_lexer": "ipython3",
   "version": "3.7.9"
  }
 },
 "nbformat": 4,
 "nbformat_minor": 4
}
