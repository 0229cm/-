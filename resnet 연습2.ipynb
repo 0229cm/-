{
  "nbformat": 4,
  "nbformat_minor": 0,
  "metadata": {
    "colab": {
      "name": "resnet 이게 나을듯.ipynb",
      "provenance": [],
      "collapsed_sections": []
    },
    "kernelspec": {
      "name": "python3",
      "display_name": "Python 3"
    },
    "accelerator": "GPU"
  },
  "cells": [
    {
      "cell_type": "code",
      "metadata": {
        "id": "EY4eCxzCzz4m"
      },
      "source": [
        "from keras import Model\n",
        "from keras import layers\n",
        "from matplotlib import pyplot\n",
        "from keras.datasets import cifar100\n",
        "from keras.utils import to_categorical\n",
        "from keras.utils.vis_utils import plot_model\n",
        "\n",
        "def resnet_block(x, filters, stride = (1,1), match = False):\n",
        "\n",
        "  shortcut = x\n",
        "  x = layers.Conv2D(filters, (1,1), strides = stride)(x)\n",
        "  x = layers.BatchNormalization()(x)\n",
        "  x = layers.ReLU()(x)\n",
        "\n",
        "  x = layers.Conv2D(filters, (3,3), padding = 'same')(x)\n",
        "  x = layers.BatchNormalization()(x)\n",
        "  x = layers.ReLU()(x)\n",
        "\n",
        "  x = layers.Conv2D(filters*4, (1,1))(x)\n",
        "  x = layers.BatchNormalization()(x)\n",
        "\n",
        "  if (match == True):#To match size of shortcut to the output if needed\n",
        "    shortcut = layers.Conv2D(filters*4, (1,1), strides = stride)(shortcut)\n",
        "  \n",
        "  x = layers.add([x,shortcut])\n",
        "  x = layers.ReLU()(x)\n",
        "\n",
        "  return x"
      ],
      "execution_count": 1,
      "outputs": []
    },
    {
      "cell_type": "code",
      "metadata": {
        "id": "XHEZM0090lUH"
      },
      "source": [
        "def load_dataset():\n",
        "\t# load dataset\n",
        "\t(trainX, trainY), (testX, testY) = cifar100.load_data()\n",
        "\t# one hot encode target values\n",
        "\ttrainY = to_categorical(trainY)\n",
        "\ttestY = to_categorical(testY)\n",
        "\treturn trainX, trainY, testX, testY"
      ],
      "execution_count": 2,
      "outputs": []
    },
    {
      "cell_type": "code",
      "metadata": {
        "id": "KGRILhSI0lR0"
      },
      "source": [
        "def prep_pixels(train, test):\n",
        "\t# convert from integers to floats\n",
        "\ttrain_norm = train.astype('float32')\n",
        "\ttest_norm = test.astype('float32')\n",
        "\t# normalize to range 0-1\n",
        "\ttrain_norm = train_norm / 255.0\n",
        "\ttest_norm = test_norm / 255.0\n",
        "\t# return normalized images\n",
        "\treturn train_norm, test_norm"
      ],
      "execution_count": 3,
      "outputs": []
    },
    {
      "cell_type": "code",
      "metadata": {
        "id": "_OKtnMT70lPf",
        "outputId": "5111a5db-a7da-4cc7-e551-9c30de3bce79",
        "colab": {
          "base_uri": "https://localhost:8080/"
        }
      },
      "source": [
        "trainX, trainY, testX, testY = load_dataset()\n",
        "trainX, testX = prep_pixels(trainX, testX)\n"
      ],
      "execution_count": 4,
      "outputs": [
        {
          "output_type": "stream",
          "text": [
            "Downloading data from https://www.cs.toronto.edu/~kriz/cifar-100-python.tar.gz\n",
            "169009152/169001437 [==============================] - 4s 0us/step\n"
          ],
          "name": "stdout"
        }
      ]
    },
    {
      "cell_type": "code",
      "metadata": {
        "id": "oEU_udSN0lNT"
      },
      "source": [
        "inputs = layers.Input(shape = (32,32,3))\n",
        "x = layers.Conv2D(64, kernel_size=(3,3), padding='same')(inputs)\n",
        "x = layers.BatchNormalization()(x)\n",
        "x = layers.ReLU()(x)\n",
        "\n",
        "\n",
        "x = resnet_block(x, 64, match = True)\n",
        "\n",
        "for _ in range(2):\n",
        "  x = resnet_block(x,64)\n",
        "\n",
        "#double the number of filters\n",
        "x = resnet_block(x, 128, stride = (2,2), match = True)\n",
        "\n",
        "for _ in range(3):\n",
        "  x = resnet_block(x,128)\n",
        "\n",
        "#double the number of filters\n",
        "x = resnet_block(x, 256, stride = (2,2), match = True)\n",
        "\n",
        "for _ in range(5):\n",
        "  x = resnet_block(x,256)\n",
        "\n",
        "x = resnet_block(x, 512, stride = (2,2), match = True)\n",
        "\n",
        "for _ in range ( 2 ):\n",
        "  x = resnet_block(x, 512)\n",
        "\n",
        "x = layers.GlobalAveragePooling2D()(x)\n",
        "\n",
        "outputs = layers.Dense(100, activation = 'softmax')(x)\n",
        "\n",
        "model = Model(inputs,outputs )\n",
        "model.compile(optimizer = 'adam', loss = 'categorical_crossentropy', metrics=['accuracy'])"
      ],
      "execution_count": 5,
      "outputs": []
    },
    {
      "cell_type": "code",
      "metadata": {
        "id": "JeUgGdnS0lLE",
        "outputId": "1b6e041a-87bd-4c70-ac0a-d0eb0201a542",
        "colab": {
          "base_uri": "https://localhost:8080/"
        }
      },
      "source": [
        "from keras.callbacks import ModelCheckpoint\n",
        "filepath='/content/sample_data/best.hdf5'\n",
        "checkpoint = ModelCheckpoint(filepath, monitor='val_acc', verbose=1, save_best_only=True, mode='max')\n",
        "callbacks_list = [checkpoint]\n",
        "history = model.fit(trainX, trainY, epochs=50, batch_size=64, validation_data=(testX, testY), callbacks=callbacks_list)\n",
        "model.save('cifar model')"
      ],
      "execution_count": 6,
      "outputs": [
        {
          "output_type": "stream",
          "text": [
            "Epoch 1/50\n",
            "782/782 [==============================] - ETA: 0s - loss: 4.0783 - accuracy: 0.0903WARNING:tensorflow:Can save best model only with val_acc available, skipping.\n",
            "782/782 [==============================] - 93s 119ms/step - loss: 4.0783 - accuracy: 0.0903 - val_loss: 11.5206 - val_accuracy: 0.1121\n",
            "Epoch 2/50\n",
            "781/782 [============================>.] - ETA: 0s - loss: 3.2943 - accuracy: 0.2004WARNING:tensorflow:Can save best model only with val_acc available, skipping.\n",
            "782/782 [==============================] - 93s 119ms/step - loss: 3.2942 - accuracy: 0.2004 - val_loss: 5.1617 - val_accuracy: 0.2135\n",
            "Epoch 3/50\n",
            "781/782 [============================>.] - ETA: 0s - loss: 2.8336 - accuracy: 0.2908WARNING:tensorflow:Can save best model only with val_acc available, skipping.\n",
            "782/782 [==============================] - 93s 119ms/step - loss: 2.8342 - accuracy: 0.2907 - val_loss: 8.3671 - val_accuracy: 0.1421\n",
            "Epoch 4/50\n",
            "782/782 [==============================] - ETA: 0s - loss: 2.4608 - accuracy: 0.3606WARNING:tensorflow:Can save best model only with val_acc available, skipping.\n",
            "782/782 [==============================] - 93s 119ms/step - loss: 2.4608 - accuracy: 0.3606 - val_loss: 2.7795 - val_accuracy: 0.3086\n",
            "Epoch 5/50\n",
            "782/782 [==============================] - ETA: 0s - loss: 2.1267 - accuracy: 0.4319WARNING:tensorflow:Can save best model only with val_acc available, skipping.\n",
            "782/782 [==============================] - 93s 119ms/step - loss: 2.1267 - accuracy: 0.4319 - val_loss: 2.8380 - val_accuracy: 0.2983\n",
            "Epoch 6/50\n",
            "781/782 [============================>.] - ETA: 0s - loss: 1.8344 - accuracy: 0.4953WARNING:tensorflow:Can save best model only with val_acc available, skipping.\n",
            "782/782 [==============================] - 93s 119ms/step - loss: 1.8345 - accuracy: 0.4952 - val_loss: 2.8628 - val_accuracy: 0.3523\n",
            "Epoch 7/50\n",
            "781/782 [============================>.] - ETA: 0s - loss: 1.5659 - accuracy: 0.5572WARNING:tensorflow:Can save best model only with val_acc available, skipping.\n",
            "782/782 [==============================] - 93s 119ms/step - loss: 1.5658 - accuracy: 0.5572 - val_loss: 2.0188 - val_accuracy: 0.4623\n",
            "Epoch 8/50\n",
            "781/782 [============================>.] - ETA: 0s - loss: 1.3291 - accuracy: 0.6163WARNING:tensorflow:Can save best model only with val_acc available, skipping.\n",
            "782/782 [==============================] - 92s 118ms/step - loss: 1.3291 - accuracy: 0.6163 - val_loss: 1.9638 - val_accuracy: 0.4846\n",
            "Epoch 9/50\n",
            "781/782 [============================>.] - ETA: 0s - loss: 1.0812 - accuracy: 0.6786WARNING:tensorflow:Can save best model only with val_acc available, skipping.\n",
            "782/782 [==============================] - 93s 118ms/step - loss: 1.0812 - accuracy: 0.6786 - val_loss: 2.1151 - val_accuracy: 0.4816\n",
            "Epoch 10/50\n",
            "781/782 [============================>.] - ETA: 0s - loss: 0.8669 - accuracy: 0.7379WARNING:tensorflow:Can save best model only with val_acc available, skipping.\n",
            "782/782 [==============================] - 93s 119ms/step - loss: 0.8670 - accuracy: 0.7379 - val_loss: 2.2428 - val_accuracy: 0.4874\n",
            "Epoch 11/50\n",
            "781/782 [============================>.] - ETA: 0s - loss: 0.6476 - accuracy: 0.7961WARNING:tensorflow:Can save best model only with val_acc available, skipping.\n",
            "782/782 [==============================] - 93s 119ms/step - loss: 0.6476 - accuracy: 0.7961 - val_loss: 2.3048 - val_accuracy: 0.4849\n",
            "Epoch 12/50\n",
            "781/782 [============================>.] - ETA: 0s - loss: 0.4780 - accuracy: 0.8465WARNING:tensorflow:Can save best model only with val_acc available, skipping.\n",
            "782/782 [==============================] - 93s 119ms/step - loss: 0.4783 - accuracy: 0.8464 - val_loss: 3.3290 - val_accuracy: 0.4471\n",
            "Epoch 13/50\n",
            "781/782 [============================>.] - ETA: 0s - loss: 0.3693 - accuracy: 0.8803WARNING:tensorflow:Can save best model only with val_acc available, skipping.\n",
            "782/782 [==============================] - 93s 119ms/step - loss: 0.3692 - accuracy: 0.8804 - val_loss: 2.4716 - val_accuracy: 0.5006\n",
            "Epoch 14/50\n",
            "781/782 [============================>.] - ETA: 0s - loss: 0.2704 - accuracy: 0.9125WARNING:tensorflow:Can save best model only with val_acc available, skipping.\n",
            "782/782 [==============================] - 93s 119ms/step - loss: 0.2707 - accuracy: 0.9125 - val_loss: 2.6882 - val_accuracy: 0.5027\n",
            "Epoch 15/50\n",
            "781/782 [============================>.] - ETA: 0s - loss: 0.2358 - accuracy: 0.9244WARNING:tensorflow:Can save best model only with val_acc available, skipping.\n",
            "782/782 [==============================] - 93s 119ms/step - loss: 0.2359 - accuracy: 0.9243 - val_loss: 2.9010 - val_accuracy: 0.4854\n",
            "Epoch 16/50\n",
            "781/782 [============================>.] - ETA: 0s - loss: 0.2080 - accuracy: 0.9326WARNING:tensorflow:Can save best model only with val_acc available, skipping.\n",
            "782/782 [==============================] - 93s 119ms/step - loss: 0.2079 - accuracy: 0.9326 - val_loss: 2.7801 - val_accuracy: 0.5054\n",
            "Epoch 17/50\n",
            "782/782 [==============================] - ETA: 0s - loss: 0.1875 - accuracy: 0.9390WARNING:tensorflow:Can save best model only with val_acc available, skipping.\n",
            "782/782 [==============================] - 93s 118ms/step - loss: 0.1875 - accuracy: 0.9390 - val_loss: 3.2540 - val_accuracy: 0.4631\n",
            "Epoch 18/50\n",
            "781/782 [============================>.] - ETA: 0s - loss: 0.1805 - accuracy: 0.9407WARNING:tensorflow:Can save best model only with val_acc available, skipping.\n",
            "782/782 [==============================] - 93s 118ms/step - loss: 0.1807 - accuracy: 0.9407 - val_loss: 2.9081 - val_accuracy: 0.4958\n",
            "Epoch 19/50\n",
            "781/782 [============================>.] - ETA: 0s - loss: 0.1392 - accuracy: 0.9557WARNING:tensorflow:Can save best model only with val_acc available, skipping.\n",
            "782/782 [==============================] - 93s 118ms/step - loss: 0.1392 - accuracy: 0.9557 - val_loss: 3.1930 - val_accuracy: 0.4864\n",
            "Epoch 20/50\n",
            "781/782 [============================>.] - ETA: 0s - loss: 0.1486 - accuracy: 0.9514WARNING:tensorflow:Can save best model only with val_acc available, skipping.\n",
            "782/782 [==============================] - 93s 118ms/step - loss: 0.1489 - accuracy: 0.9514 - val_loss: 3.1414 - val_accuracy: 0.4922\n",
            "Epoch 21/50\n",
            "781/782 [============================>.] - ETA: 0s - loss: 0.1383 - accuracy: 0.9563WARNING:tensorflow:Can save best model only with val_acc available, skipping.\n",
            "782/782 [==============================] - 93s 118ms/step - loss: 0.1383 - accuracy: 0.9563 - val_loss: 3.1236 - val_accuracy: 0.4969\n",
            "Epoch 22/50\n",
            "781/782 [============================>.] - ETA: 0s - loss: 0.1187 - accuracy: 0.9610WARNING:tensorflow:Can save best model only with val_acc available, skipping.\n",
            "782/782 [==============================] - 93s 119ms/step - loss: 0.1187 - accuracy: 0.9610 - val_loss: 3.0561 - val_accuracy: 0.5069\n",
            "Epoch 23/50\n",
            "781/782 [============================>.] - ETA: 0s - loss: 0.1158 - accuracy: 0.9615WARNING:tensorflow:Can save best model only with val_acc available, skipping.\n",
            "782/782 [==============================] - 93s 119ms/step - loss: 0.1157 - accuracy: 0.9615 - val_loss: 3.0285 - val_accuracy: 0.5149\n",
            "Epoch 24/50\n",
            "781/782 [============================>.] - ETA: 0s - loss: 0.1105 - accuracy: 0.9643WARNING:tensorflow:Can save best model only with val_acc available, skipping.\n",
            "782/782 [==============================] - 93s 119ms/step - loss: 0.1105 - accuracy: 0.9643 - val_loss: 3.3658 - val_accuracy: 0.4906\n",
            "Epoch 25/50\n",
            "782/782 [==============================] - ETA: 0s - loss: 0.1109 - accuracy: 0.9635WARNING:tensorflow:Can save best model only with val_acc available, skipping.\n",
            "782/782 [==============================] - 93s 119ms/step - loss: 0.1109 - accuracy: 0.9635 - val_loss: 3.3684 - val_accuracy: 0.4888\n",
            "Epoch 26/50\n",
            "781/782 [============================>.] - ETA: 0s - loss: 0.0941 - accuracy: 0.9694WARNING:tensorflow:Can save best model only with val_acc available, skipping.\n",
            "782/782 [==============================] - 93s 119ms/step - loss: 0.0941 - accuracy: 0.9694 - val_loss: 3.2270 - val_accuracy: 0.5072\n",
            "Epoch 27/50\n",
            "781/782 [============================>.] - ETA: 0s - loss: 0.1006 - accuracy: 0.9673WARNING:tensorflow:Can save best model only with val_acc available, skipping.\n",
            "782/782 [==============================] - 93s 119ms/step - loss: 0.1006 - accuracy: 0.9674 - val_loss: 3.2293 - val_accuracy: 0.5096\n",
            "Epoch 28/50\n",
            "781/782 [============================>.] - ETA: 0s - loss: 0.0963 - accuracy: 0.9684WARNING:tensorflow:Can save best model only with val_acc available, skipping.\n",
            "782/782 [==============================] - 93s 119ms/step - loss: 0.0964 - accuracy: 0.9684 - val_loss: 3.3169 - val_accuracy: 0.5018\n",
            "Epoch 29/50\n",
            "781/782 [============================>.] - ETA: 0s - loss: 0.0908 - accuracy: 0.9704WARNING:tensorflow:Can save best model only with val_acc available, skipping.\n",
            "782/782 [==============================] - 93s 119ms/step - loss: 0.0908 - accuracy: 0.9704 - val_loss: 3.2907 - val_accuracy: 0.5094\n",
            "Epoch 30/50\n",
            "782/782 [==============================] - ETA: 0s - loss: 0.0779 - accuracy: 0.9747WARNING:tensorflow:Can save best model only with val_acc available, skipping.\n",
            "782/782 [==============================] - 93s 119ms/step - loss: 0.0779 - accuracy: 0.9747 - val_loss: 3.6803 - val_accuracy: 0.4724\n",
            "Epoch 31/50\n",
            "781/782 [============================>.] - ETA: 0s - loss: 0.0929 - accuracy: 0.9695WARNING:tensorflow:Can save best model only with val_acc available, skipping.\n",
            "782/782 [==============================] - 93s 119ms/step - loss: 0.0929 - accuracy: 0.9694 - val_loss: 3.4768 - val_accuracy: 0.5046\n",
            "Epoch 32/50\n",
            "781/782 [============================>.] - ETA: 0s - loss: 0.0756 - accuracy: 0.9761WARNING:tensorflow:Can save best model only with val_acc available, skipping.\n",
            "782/782 [==============================] - 93s 119ms/step - loss: 0.0756 - accuracy: 0.9761 - val_loss: 3.3679 - val_accuracy: 0.5053\n",
            "Epoch 33/50\n",
            "781/782 [============================>.] - ETA: 0s - loss: 0.0691 - accuracy: 0.9780WARNING:tensorflow:Can save best model only with val_acc available, skipping.\n",
            "782/782 [==============================] - 93s 119ms/step - loss: 0.0692 - accuracy: 0.9779 - val_loss: 3.4272 - val_accuracy: 0.4953\n",
            "Epoch 34/50\n",
            "781/782 [============================>.] - ETA: 0s - loss: 0.0810 - accuracy: 0.9736WARNING:tensorflow:Can save best model only with val_acc available, skipping.\n",
            "782/782 [==============================] - 93s 119ms/step - loss: 0.0810 - accuracy: 0.9736 - val_loss: 3.3878 - val_accuracy: 0.5031\n",
            "Epoch 35/50\n",
            "781/782 [============================>.] - ETA: 0s - loss: 0.0676 - accuracy: 0.9774WARNING:tensorflow:Can save best model only with val_acc available, skipping.\n",
            "782/782 [==============================] - 93s 119ms/step - loss: 0.0675 - accuracy: 0.9774 - val_loss: 3.4309 - val_accuracy: 0.5051\n",
            "Epoch 36/50\n",
            "781/782 [============================>.] - ETA: 0s - loss: 0.0655 - accuracy: 0.9783WARNING:tensorflow:Can save best model only with val_acc available, skipping.\n",
            "782/782 [==============================] - 93s 119ms/step - loss: 0.0656 - accuracy: 0.9782 - val_loss: 3.3718 - val_accuracy: 0.5137\n",
            "Epoch 37/50\n",
            "781/782 [============================>.] - ETA: 0s - loss: 0.0727 - accuracy: 0.9766WARNING:tensorflow:Can save best model only with val_acc available, skipping.\n",
            "782/782 [==============================] - 93s 119ms/step - loss: 0.0729 - accuracy: 0.9766 - val_loss: 3.4256 - val_accuracy: 0.5080\n",
            "Epoch 38/50\n",
            "781/782 [============================>.] - ETA: 0s - loss: 0.0666 - accuracy: 0.9789WARNING:tensorflow:Can save best model only with val_acc available, skipping.\n",
            "782/782 [==============================] - 93s 119ms/step - loss: 0.0666 - accuracy: 0.9789 - val_loss: 3.2982 - val_accuracy: 0.5217\n",
            "Epoch 39/50\n",
            "781/782 [============================>.] - ETA: 0s - loss: 0.0629 - accuracy: 0.9795WARNING:tensorflow:Can save best model only with val_acc available, skipping.\n",
            "782/782 [==============================] - 93s 119ms/step - loss: 0.0629 - accuracy: 0.9795 - val_loss: 3.5527 - val_accuracy: 0.5055\n",
            "Epoch 40/50\n",
            "782/782 [==============================] - ETA: 0s - loss: 0.0643 - accuracy: 0.9796WARNING:tensorflow:Can save best model only with val_acc available, skipping.\n",
            "782/782 [==============================] - 93s 119ms/step - loss: 0.0643 - accuracy: 0.9796 - val_loss: 3.5193 - val_accuracy: 0.5097\n",
            "Epoch 41/50\n",
            "781/782 [============================>.] - ETA: 0s - loss: 0.0614 - accuracy: 0.9803WARNING:tensorflow:Can save best model only with val_acc available, skipping.\n",
            "782/782 [==============================] - 93s 119ms/step - loss: 0.0614 - accuracy: 0.9803 - val_loss: 3.3689 - val_accuracy: 0.5241\n",
            "Epoch 42/50\n",
            "781/782 [============================>.] - ETA: 0s - loss: 0.0609 - accuracy: 0.9808WARNING:tensorflow:Can save best model only with val_acc available, skipping.\n",
            "782/782 [==============================] - 93s 119ms/step - loss: 0.0609 - accuracy: 0.9808 - val_loss: 3.6122 - val_accuracy: 0.5011\n",
            "Epoch 43/50\n",
            "781/782 [============================>.] - ETA: 0s - loss: 0.0585 - accuracy: 0.9811WARNING:tensorflow:Can save best model only with val_acc available, skipping.\n",
            "782/782 [==============================] - 93s 119ms/step - loss: 0.0585 - accuracy: 0.9810 - val_loss: 3.4726 - val_accuracy: 0.5124\n",
            "Epoch 44/50\n",
            "781/782 [============================>.] - ETA: 0s - loss: 0.0570 - accuracy: 0.9824WARNING:tensorflow:Can save best model only with val_acc available, skipping.\n",
            "782/782 [==============================] - 93s 119ms/step - loss: 0.0570 - accuracy: 0.9824 - val_loss: 3.5261 - val_accuracy: 0.5045\n",
            "Epoch 45/50\n",
            "781/782 [============================>.] - ETA: 0s - loss: 0.0569 - accuracy: 0.9817WARNING:tensorflow:Can save best model only with val_acc available, skipping.\n",
            "782/782 [==============================] - 93s 119ms/step - loss: 0.0570 - accuracy: 0.9816 - val_loss: 3.5502 - val_accuracy: 0.5184\n",
            "Epoch 46/50\n",
            "781/782 [============================>.] - ETA: 0s - loss: 0.0536 - accuracy: 0.9825WARNING:tensorflow:Can save best model only with val_acc available, skipping.\n",
            "782/782 [==============================] - 93s 119ms/step - loss: 0.0536 - accuracy: 0.9825 - val_loss: 3.5286 - val_accuracy: 0.5069\n",
            "Epoch 47/50\n",
            "781/782 [============================>.] - ETA: 0s - loss: 0.0452 - accuracy: 0.9850WARNING:tensorflow:Can save best model only with val_acc available, skipping.\n",
            "782/782 [==============================] - 93s 119ms/step - loss: 0.0452 - accuracy: 0.9850 - val_loss: 3.6474 - val_accuracy: 0.5082\n",
            "Epoch 48/50\n",
            "781/782 [============================>.] - ETA: 0s - loss: 0.0534 - accuracy: 0.9833WARNING:tensorflow:Can save best model only with val_acc available, skipping.\n",
            "782/782 [==============================] - 93s 119ms/step - loss: 0.0535 - accuracy: 0.9833 - val_loss: 3.4435 - val_accuracy: 0.5141\n",
            "Epoch 49/50\n",
            "782/782 [==============================] - ETA: 0s - loss: 0.0610 - accuracy: 0.9803WARNING:tensorflow:Can save best model only with val_acc available, skipping.\n",
            "782/782 [==============================] - 94s 120ms/step - loss: 0.0610 - accuracy: 0.9803 - val_loss: 3.6740 - val_accuracy: 0.5045\n",
            "Epoch 50/50\n",
            "782/782 [==============================] - ETA: 0s - loss: 0.0408 - accuracy: 0.9870WARNING:tensorflow:Can save best model only with val_acc available, skipping.\n",
            "782/782 [==============================] - 94s 120ms/step - loss: 0.0408 - accuracy: 0.9870 - val_loss: 3.8089 - val_accuracy: 0.5086\n",
            "WARNING:tensorflow:From /usr/local/lib/python3.6/dist-packages/tensorflow/python/training/tracking/tracking.py:111: Model.state_updates (from tensorflow.python.keras.engine.training) is deprecated and will be removed in a future version.\n",
            "Instructions for updating:\n",
            "This property should not be used in TensorFlow 2.0, as updates are applied automatically.\n",
            "WARNING:tensorflow:From /usr/local/lib/python3.6/dist-packages/tensorflow/python/training/tracking/tracking.py:111: Layer.updates (from tensorflow.python.keras.engine.base_layer) is deprecated and will be removed in a future version.\n",
            "Instructions for updating:\n",
            "This property should not be used in TensorFlow 2.0, as updates are applied automatically.\n",
            "INFO:tensorflow:Assets written to: cifar model/assets\n"
          ],
          "name": "stdout"
        }
      ]
    },
    {
      "cell_type": "code",
      "metadata": {
        "id": "D95vu3-J0lI1"
      },
      "source": [
        ""
      ],
      "execution_count": null,
      "outputs": []
    },
    {
      "cell_type": "code",
      "metadata": {
        "id": "f384uFbO0lGw"
      },
      "source": [
        ""
      ],
      "execution_count": null,
      "outputs": []
    },
    {
      "cell_type": "code",
      "metadata": {
        "id": "SjCB5LmJ0lEt"
      },
      "source": [
        ""
      ],
      "execution_count": null,
      "outputs": []
    },
    {
      "cell_type": "code",
      "metadata": {
        "id": "2dXdd4Ua0lBt"
      },
      "source": [
        ""
      ],
      "execution_count": null,
      "outputs": []
    }
  ]
}