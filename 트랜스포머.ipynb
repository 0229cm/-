{
 "cells": [
  {
   "cell_type": "markdown",
   "metadata": {},
   "source": [
    "# Transformer (Translation)"
   ]
  },
  {
   "cell_type": "code",
   "execution_count": 1,
   "metadata": {},
   "outputs": [],
   "source": [
    "import random\n",
    "import numpy as np\n",
    "import tensorflow as tf\n",
    "from konlpy.tag import Okt\n",
    "\n",
    "from tensorflow.keras import Model\n",
    "from tensorflow.keras import Sequential\n",
    "from tensorflow.keras.layers import Dense, Lambda, Layer, Embedding, LayerNormalization"
   ]
  },
  {
   "cell_type": "code",
   "execution_count": 2,
   "metadata": {
    "scrolled": true
   },
   "outputs": [
    {
     "data": {
      "text/plain": [
       "'C:\\\\Users\\\\min'"
      ]
     },
     "execution_count": 2,
     "metadata": {},
     "output_type": "execute_result"
    }
   ],
   "source": [
    "%pwd"
   ]
  },
  {
   "cell_type": "code",
   "execution_count": 3,
   "metadata": {},
   "outputs": [],
   "source": [
    "import os"
   ]
  },
  {
   "cell_type": "code",
   "execution_count": 13,
   "metadata": {},
   "outputs": [],
   "source": [
    "EPOCHS = 20\n",
    "NUM_WORDS = 2000"
   ]
  },
  {
   "cell_type": "markdown",
   "metadata": {},
   "source": [
    "## Dot-Scaled Attention"
   ]
  },
  {
   "cell_type": "code",
   "execution_count": 5,
   "metadata": {},
   "outputs": [],
   "source": [
    "class DotScaledAttention(Layer):\n",
    "    def __init__(self, d_emb, d_reduced, masked=False):\n",
    "        super().__init__()\n",
    "        self.q = Dense(d_reduced, input_shape=(-1, d_emb))\n",
    "        self.k = Dense(d_reduced, input_shape=(-1, d_emb))\n",
    "        self.v = Dense(d_reduced, input_shape=(-1, d_emb))\n",
    "        self.scale = Lambda(lambda x: x/np.sqrt(d_reduced))\n",
    "        self.masked = masked\n",
    "\n",
    "    def call(self, x, training=None, mask=None): # (q,k,v)\n",
    "        q = self.scale(self.q(x[0]))\n",
    "        k = self.k(x[1])\n",
    "        v = self.v(x[2])\n",
    "        \n",
    "        k_T = tf.transpose(k, perm=[0, 2, 1])\n",
    "        comp = tf.matmul(q, k_T)\n",
    "        \n",
    "        if self.masked: # Referred from https://github.com/LastRemote/Transformer-TF2.0\n",
    "            length = tf.shape(comp)[-1]\n",
    "            mask = tf.fill((length, length), -np.inf)\n",
    "            mask = tf.linalg.band_part(mask, 0, -1) # Get upper triangle\n",
    "            mask = tf.linalg.set_diag(mask, tf.zeros((length))) # Set diagonal to zeros to avoid operations with infinity\n",
    "            comp += mask\n",
    "        comp = tf.nn.softmax(comp, axis=-1)\n",
    "        return tf.matmul(comp, v)"
   ]
  },
  {
   "cell_type": "markdown",
   "metadata": {},
   "source": [
    "## Multi-Head Attention"
   ]
  },
  {
   "cell_type": "code",
   "execution_count": 6,
   "metadata": {},
   "outputs": [],
   "source": [
    "class MultiHeadAttention(Layer):\n",
    "    def __init__(self, num_head, d_emb, d_reduced, masked=False):\n",
    "        super().__init__()\n",
    "        self.attention_list = list()\n",
    "        for _ in range(num_head):\n",
    "            self.attention_list.append(DotScaledAttention(d_emb, d_reduced, masked))\n",
    "        self.linear = Dense(d_emb, input_shape=(-1, num_head * d_reduced))\n",
    "\n",
    "    def call(self, x, training=None, mask=None):\n",
    "        attention_list = [a(x) for a in self.attention_list]\n",
    "        concat = tf.concat(attention_list, axis=-1)\n",
    "        return self.linear(concat)"
   ]
  },
  {
   "cell_type": "markdown",
   "metadata": {},
   "source": [
    "## Encoder"
   ]
  },
  {
   "cell_type": "code",
   "execution_count": 7,
   "metadata": {},
   "outputs": [],
   "source": [
    "class Encoder(Layer):\n",
    "    def __init__(self, num_head, d_reduced):\n",
    "        super().__init__()\n",
    "        self.num_head = num_head\n",
    "        self.d_r = d_reduced\n",
    "    \n",
    "    def build(self, input_shape):\n",
    "        self.multi_attention = MultiHeadAttention(self.num_head, input_shape[-1], self.d_r)\n",
    "        self.layer_norm1 = LayerNormalization(input_shape=input_shape)\n",
    "        self.dense1 = Dense(input_shape[-1] * 4, input_shape=input_shape, activation='relu')\n",
    "        self.dense2 = Dense(input_shape[-1],\n",
    "                            input_shape=self.dense1.compute_output_shape(input_shape))\n",
    "        self.layer_norm2 = LayerNormalization(input_shape=input_shape)\n",
    "        super().build(input_shape)\n",
    "\n",
    "    def call(self, x, training=None, mask=None):\n",
    "        h = self.multi_attention((x, x, x))\n",
    "        ln1 = self.layer_norm1(x + h)\n",
    "        \n",
    "        h = self.dense2(self.dense1(ln1))\n",
    "        return self.layer_norm2(h + ln1)\n",
    "\n",
    "    def compute_output_shape(self, input_shape):\n",
    "        return input_shape"
   ]
  },
  {
   "cell_type": "markdown",
   "metadata": {},
   "source": [
    "## Decoder"
   ]
  },
  {
   "cell_type": "code",
   "execution_count": 8,
   "metadata": {},
   "outputs": [],
   "source": [
    "class Decoder(Layer):\n",
    "    def __init__(self, num_head, d_reduced):\n",
    "        super().__init__()\n",
    "        self.num_head = num_head\n",
    "        self.d_r = d_reduced\n",
    "    \n",
    "    def build(self, input_shape):\n",
    "        self.self_attention = MultiHeadAttention(self.num_head, input_shape[0][-1], self.d_r, masked=True)\n",
    "        self.layer_norm1 = LayerNormalization(input_shape=input_shape)\n",
    "        \n",
    "        self.multi_attention = MultiHeadAttention(self.num_head, input_shape[0][-1], self.d_r)\n",
    "        self.layer_norm2 = LayerNormalization(input_shape=input_shape)\n",
    "        \n",
    "        self.dense1 = Dense(input_shape[0][-1] * 4, input_shape=input_shape[0], activation='relu')\n",
    "        self.dense2 = Dense(input_shape[0][-1],\n",
    "                            input_shape=self.dense1.compute_output_shape(input_shape[0]))\n",
    "        self.layer_norm3 = LayerNormalization(input_shape=input_shape)\n",
    "        super().build(input_shape)\n",
    "\n",
    "    def call(self, inputs, training=None, mask=None): # (x, context)\n",
    "        x, context = inputs\n",
    "        h = self.self_attention((x, x, x))\n",
    "        ln1 = self.layer_norm1(x + h)\n",
    "        \n",
    "        h = self.multi_attention((ln1, context, context))\n",
    "        ln2 = self.layer_norm2(ln1 + h)\n",
    "        \n",
    "        h = self.dense2(self.dense1(ln2))\n",
    "        return self.layer_norm3(h + ln2)\n",
    "\n",
    "    def compute_output_shape(self, input_shape):\n",
    "        return input_shape"
   ]
  },
  {
   "cell_type": "markdown",
   "metadata": {},
   "source": [
    "## Positional Encoding"
   ]
  },
  {
   "cell_type": "code",
   "execution_count": 9,
   "metadata": {},
   "outputs": [],
   "source": [
    "class PositionalEncoding(Layer):  # Referred from https://github.com/LastRemote/Transformer-TF2.0\n",
    "    def __init__(self, max_len, d_emb):\n",
    "        super().__init__()\n",
    "        self.sinusoidal_encoding = np.array([self.get_positional_angle(pos, d_emb) for pos in range(max_len)], dtype=np.float32)\n",
    "        self.sinusoidal_encoding[:, 0::2] = np.sin(self.sinusoidal_encoding[:, 0::2])\n",
    "        self.sinusoidal_encoding[:, 1::2] = np.cos(self.sinusoidal_encoding[:, 1::2])\n",
    "        self.sinusoidal_encoding = tf.cast(self.sinusoidal_encoding, dtype=tf.float32)\n",
    "\n",
    "    def call(self, x, training=None, mask=None):\n",
    "        return x + self.sinusoidal_encoding[:tf.shape(x)[1]]\n",
    "\n",
    "    def compute_output_shape(self, input_shape):\n",
    "        return input_shape\n",
    "\n",
    "    def get_angle(self, pos, dim, d_emb):\n",
    "        return pos / np.power(10000, 2 * (dim // 2) / d_emb)\n",
    "\n",
    "    def get_positional_angle(self, pos, d_emb):\n",
    "        return [self.get_angle(pos, dim, d_emb) for dim in range(d_emb)]"
   ]
  },
  {
   "cell_type": "markdown",
   "metadata": {},
   "source": [
    "## Transformer Architecture"
   ]
  },
  {
   "cell_type": "code",
   "execution_count": 10,
   "metadata": {},
   "outputs": [],
   "source": [
    "class Transformer(Model):\n",
    "    def __init__(self, src_vocab, dst_vocab, max_len, d_emb,\n",
    "                       d_reduced, n_enc_layer, n_dec_layer, num_head):\n",
    "        super().__init__()\n",
    "        self.enc_emb = Embedding(src_vocab, d_emb)\n",
    "        self.dec_emb = Embedding(dst_vocab, d_emb)\n",
    "        self.pos_enc = PositionalEncoding(max_len, d_emb)\n",
    "        \n",
    "        self.encoder = [Encoder(num_head, d_reduced) for _ in range(n_enc_layer)]\n",
    "        self.decoder = [Decoder(num_head, d_reduced) for _ in range(n_dec_layer)]\n",
    "        self.dense = Dense(dst_vocab, input_shape=(-1, d_emb))\n",
    "\n",
    "    def call(self, inputs, training=None, mask=None): # (src_sentence, dst_sentence_shifted)\n",
    "        src_sent, dst_sent_shifted = inputs\n",
    "        \n",
    "        h_enc = self.pos_enc(self.enc_emb(src_sent))\n",
    "        for enc in self.encoder:\n",
    "            h_enc = enc(h_enc)\n",
    "            \n",
    "        h_dec = self.pos_enc(self.dec_emb(dst_sent_shifted))\n",
    "        for dec in self.decoder:\n",
    "            h_dec = dec([h_dec, h_enc])\n",
    "            \n",
    "        return tf.nn.softmax(self.dense(h_dec), axis=-1)"
   ]
  },
  {
   "cell_type": "markdown",
   "metadata": {},
   "source": [
    "## Dataset 준비"
   ]
  },
  {
   "cell_type": "code",
   "execution_count": 11,
   "metadata": {},
   "outputs": [],
   "source": [
    "dataset_file = 'UrbanSound8K/metadata/UrbanSound8K.csv' # acquired from 'http://www.aihub.or.kr' and modified\n",
    "okt = Okt()\n",
    "\n",
    "with open(dataset_file, 'r') as file:\n",
    "    lines = file.readlines()\n",
    "    seq = [' '.join(okt.morphs(line)) for line in lines]\n",
    "\n",
    "questions = seq[::2]\n",
    "answers = ['\\t ' + lines for lines in seq[1::2]]\n",
    "\n",
    "num_sample = len(questions)\n",
    "\n",
    "perm = list(range(num_sample))\n",
    "random.seed(0)\n",
    "random.shuffle(perm)\n",
    "\n",
    "train_q = list()\n",
    "train_a = list()\n",
    "test_q = list()\n",
    "test_a = list()\n",
    "\n",
    "for idx, qna in enumerate(zip(questions, answers)):\n",
    "    q, a = qna\n",
    "    if perm[idx] > num_sample//5:\n",
    "        train_q.append(q)\n",
    "        train_a.append(a)\n",
    "    else:\n",
    "        test_q.append(q)\n",
    "        test_a.append(a)\n",
    "\n",
    "tokenizer = tf.keras.preprocessing.text.Tokenizer(num_words=NUM_WORDS,\n",
    "                                                  filters='!\"#$%&()*+,-./:;<=>?@[\\\\]^_`{|}~')\n",
    "\n",
    "tokenizer.fit_on_texts(train_q + train_a)\n",
    "\n",
    "train_q_seq = tokenizer.texts_to_sequences(train_q)\n",
    "train_a_seq = tokenizer.texts_to_sequences(train_a)\n",
    "\n",
    "test_q_seq = tokenizer.texts_to_sequences(test_q)\n",
    "test_a_seq = tokenizer.texts_to_sequences(test_a)\n",
    "\n",
    "x_train = tf.keras.preprocessing.sequence.pad_sequences(train_q_seq,\n",
    "                                                        value=0,\n",
    "                                                        padding='pre',\n",
    "                                                        maxlen=64)\n",
    "y_train = tf.keras.preprocessing.sequence.pad_sequences(train_a_seq,\n",
    "                                                        value=0,\n",
    "                                                        padding='post',\n",
    "                                                        maxlen=65)\n",
    "y_train_shifted = np.concatenate([np.zeros((y_train.shape[0], 1)), y_train[:, 1:]], axis=1)\n",
    "\n",
    "\n",
    "x_test = tf.keras.preprocessing.sequence.pad_sequences(test_q_seq,\n",
    "                                                       value=0,\n",
    "                                                       padding='pre',\n",
    "                                                       maxlen=64)\n",
    "y_test = tf.keras.preprocessing.sequence.pad_sequences(test_a_seq,\n",
    "                                                       value=0,\n",
    "                                                       padding='post',\n",
    "                                                       maxlen=65)"
   ]
  },
  {
   "cell_type": "markdown",
   "metadata": {},
   "source": [
    "## Train using keras"
   ]
  },
  {
   "cell_type": "code",
   "execution_count": 14,
   "metadata": {
    "scrolled": true
   },
   "outputs": [
    {
     "name": "stdout",
     "output_type": "stream",
     "text": [
      "Epoch 1/20\n",
      "  2/699 [..............................] - ETA: 3:43 - loss: 7.6200 - accuracy: 0.0077WARNING:tensorflow:Method (on_train_batch_end) is slow compared to the batch update (0.308337). Check your callbacks.\n",
      "699/699 [==============================] - 23s 33ms/step - loss: 1.8485 - accuracy: 0.8132\n",
      "Epoch 2/20\n",
      "699/699 [==============================] - 22s 32ms/step - loss: 0.3962 - accuracy: 0.9427\n",
      "Epoch 3/20\n",
      "699/699 [==============================] - 22s 32ms/step - loss: 0.2815 - accuracy: 0.9553\n",
      "Epoch 4/20\n",
      "699/699 [==============================] - 22s 32ms/step - loss: 0.2230 - accuracy: 0.9625\n",
      "Epoch 5/20\n",
      "699/699 [==============================] - 22s 32ms/step - loss: 0.1780 - accuracy: 0.9694\n",
      "Epoch 6/20\n",
      "699/699 [==============================] - 23s 32ms/step - loss: 0.1398 - accuracy: 0.9763\n",
      "Epoch 7/20\n",
      "699/699 [==============================] - 22s 32ms/step - loss: 0.1064 - accuracy: 0.9831\n",
      "Epoch 8/20\n",
      "699/699 [==============================] - 22s 32ms/step - loss: 0.0790 - accuracy: 0.9887\n",
      "Epoch 9/20\n",
      "699/699 [==============================] - 22s 32ms/step - loss: 0.0572 - accuracy: 0.9928\n",
      "Epoch 10/20\n",
      "699/699 [==============================] - 23s 33ms/step - loss: 0.0405 - accuracy: 0.9952\n",
      "Epoch 11/20\n",
      "699/699 [==============================] - 23s 33ms/step - loss: 0.0283 - accuracy: 0.9963\n",
      "Epoch 12/20\n",
      "699/699 [==============================] - 23s 33ms/step - loss: 0.0195 - accuracy: 0.9971\n",
      "Epoch 13/20\n",
      "699/699 [==============================] - 23s 33ms/step - loss: 0.0136 - accuracy: 0.9984\n",
      "Epoch 14/20\n",
      "699/699 [==============================] - 23s 33ms/step - loss: 0.0096 - accuracy: 0.9992\n",
      "Epoch 15/20\n",
      "699/699 [==============================] - 23s 33ms/step - loss: 0.0064 - accuracy: 0.9997\n",
      "Epoch 16/20\n",
      "699/699 [==============================] - 23s 32ms/step - loss: 0.0043 - accuracy: 0.9999\n",
      "Epoch 17/20\n",
      "699/699 [==============================] - 23s 32ms/step - loss: 0.0026 - accuracy: 1.0000\n",
      "Epoch 18/20\n",
      "699/699 [==============================] - 23s 33ms/step - loss: 0.0014 - accuracy: 1.0000\n",
      "Epoch 19/20\n",
      "699/699 [==============================] - ETA: 0s - loss: 7.6482e-04 - accuracy: 1.00 - 23s 32ms/step - loss: 7.6571e-04 - accuracy: 1.0000\n",
      "Epoch 20/20\n",
      "699/699 [==============================] - 23s 33ms/step - loss: 4.5982e-04 - accuracy: 1.0000\n"
     ]
    },
    {
     "data": {
      "text/plain": [
       "<tensorflow.python.keras.callbacks.History at 0x1e219c62908>"
      ]
     },
     "execution_count": 14,
     "metadata": {},
     "output_type": "execute_result"
    }
   ],
   "source": [
    "transformer = Transformer(NUM_WORDS,\n",
    "                          NUM_WORDS,\n",
    "                          128, 16, 16, 2, 2, 4) # Instantiating a new transformer model\n",
    "\n",
    "transformer.compile(optimizer='adam',\n",
    "              loss='sparse_categorical_crossentropy',\n",
    "              metrics=['accuracy'])\n",
    "transformer.fit([x_train, y_train_shifted], y_train, batch_size=5, epochs=EPOCHS)"
   ]
  },
  {
   "cell_type": "code",
   "execution_count": null,
   "metadata": {},
   "outputs": [],
   "source": []
  }
 ],
 "metadata": {
  "kernelspec": {
   "display_name": "Python 3",
   "language": "python",
   "name": "python3"
  },
  "language_info": {
   "codemirror_mode": {
    "name": "ipython",
    "version": 3
   },
   "file_extension": ".py",
   "mimetype": "text/x-python",
   "name": "python",
   "nbconvert_exporter": "python",
   "pygments_lexer": "ipython3",
   "version": "3.6.10"
  }
 },
 "nbformat": 4,
 "nbformat_minor": 2
}
